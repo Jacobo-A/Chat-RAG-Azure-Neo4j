{
 "cells": [
  {
   "cell_type": "code",
   "execution_count": 1,
   "metadata": {},
   "outputs": [
    {
     "name": "stdout",
     "output_type": "stream",
     "text": [
      "{'producer': 'pdfTeX-1.40.21', 'creator': 'LaTeX with hyperref', 'creationdate': '2021-06-22T01:27:10+00:00', 'author': '', 'keywords': '', 'moddate': '2021-06-22T01:27:10+00:00', 'ptex.fullbanner': 'This is pdfTeX, Version 3.14159265-2.6-1.40.21 (TeX Live 2020) kpathsea version 6.3.2', 'subject': '', 'title': '', 'trapped': '/False', 'source': '/home/sener/Descargas/RAG_functions/layout-parser-paper.pdf', 'total_pages': 16, 'page': 0, 'page_label': '1'}\n",
      "[2025/02/20 12:24:04] ppocr DEBUG: Namespace(help='==SUPPRESS==', use_gpu=False, use_xpu=False, use_npu=False, use_mlu=False, ir_optim=True, use_tensorrt=False, min_subgraph_size=15, precision='fp32', gpu_mem=500, gpu_id=0, image_dir=None, page_num=0, det_algorithm='DB', det_model_dir='/home/sener/.paddleocr/whl/det/en/en_PP-OCRv3_det_infer', det_limit_side_len=960, det_limit_type='max', det_box_type='quad', det_db_thresh=0.3, det_db_box_thresh=0.6, det_db_unclip_ratio=1.5, max_batch_size=10, use_dilation=False, det_db_score_mode='fast', det_east_score_thresh=0.8, det_east_cover_thresh=0.1, det_east_nms_thresh=0.2, det_sast_score_thresh=0.5, det_sast_nms_thresh=0.2, det_pse_thresh=0, det_pse_box_thresh=0.85, det_pse_min_area=16, det_pse_scale=1, scales=[8, 16, 32], alpha=1.0, beta=1.0, fourier_degree=5, rec_algorithm='SVTR_LCNet', rec_model_dir='/home/sener/.paddleocr/whl/rec/en/en_PP-OCRv4_rec_infer', rec_image_inverse=True, rec_image_shape='3, 48, 320', rec_batch_num=6, max_text_length=25, rec_char_dict_path='/home/sener/Documentos/Proyectos/Chat-RAG-Azure-Neo4j/.venv/lib/python3.12/site-packages/paddleocr/ppocr/utils/en_dict.txt', use_space_char=True, vis_font_path='./doc/fonts/simfang.ttf', drop_score=0.5, e2e_algorithm='PGNet', e2e_model_dir=None, e2e_limit_side_len=768, e2e_limit_type='max', e2e_pgnet_score_thresh=0.5, e2e_char_dict_path='./ppocr/utils/ic15_dict.txt', e2e_pgnet_valid_set='totaltext', e2e_pgnet_mode='fast', use_angle_cls=True, cls_model_dir='/home/sener/.paddleocr/whl/cls/ch_ppocr_mobile_v2.0_cls_infer', cls_image_shape='3, 48, 192', label_list=['0', '180'], cls_batch_num=6, cls_thresh=0.9, enable_mkldnn=False, cpu_threads=10, use_pdserving=False, warmup=False, sr_model_dir=None, sr_image_shape='3, 32, 128', sr_batch_num=1, draw_img_save_dir='./inference_results', save_crop_res=False, crop_res_save_dir='./output', use_mp=False, total_process_num=1, process_id=0, benchmark=False, save_log_path='./log_output/', show_log=True, use_onnx=False, return_word_box=False, output='./output', table_max_len=488, table_algorithm='TableAttn', table_model_dir=None, merge_no_span_structure=True, table_char_dict_path=None, formula_algorithm='LaTeXOCR', formula_model_dir=None, formula_char_dict_path=None, formula_batch_num=1, layout_model_dir=None, layout_dict_path=None, layout_score_threshold=0.5, layout_nms_threshold=0.5, kie_algorithm='LayoutXLM', ser_model_dir=None, re_model_dir=None, use_visual_backbone=True, ser_dict_path='../train_data/XFUND/class_list_xfun.txt', ocr_order_method=None, mode='structure', image_orientation=False, layout=True, table=True, formula=False, ocr=True, recovery=False, recovery_to_markdown=False, use_pdf2docx_api=False, invert=False, binarize=False, alphacolor=(255, 255, 255), lang='en', det=True, rec=True, type='ocr', savefile=False, ocr_version='PP-OCRv4', structure_version='PP-StructureV2')\n",
      "[Document(metadata={'producer': 'pdfTeX-1.40.21', 'creator': 'LaTeX with hyperref', 'creationdate': '2021-06-22T01:27:10+00:00', 'author': '', 'keywords': '', 'moddate': '2021-06-22T01:27:10+00:00', 'ptex.fullbanner': 'This is pdfTeX, Version 3.14159265-2.6-1.40.21 (TeX Live 2020) kpathsea version 6.3.2', 'subject': '', 'title': '', 'trapped': '/False', 'source': '/home/sener/Descargas/RAG_functions/layout-parser-paper.pdf', 'total_pages': 16, 'page': 1, 'page_label': '2'}, page_content='2 Z. Shen et al.\\n37], layout detection [38, 22], table detection [ 26], and scene text detection [ 4].\\nA generalized learning-based framework dramatically reduces the need for the\\nmanual speciﬁcation of complicated rules, which is the status quo with traditional\\nmethods. DL has the potential to transform DIA pipelines and beneﬁt a broad\\nspectrum of large-scale document digitization projects.\\nHowever, there are several practical diﬃculties for taking advantages of re-\\ncent advances in DL-based methods: 1) DL models are notoriously convoluted\\nfor reuse and extension. Existing models are developed using distinct frame-\\nworks like TensorFlow [1] or PyTorch [ 24], and the high-level parameters can\\nbe obfuscated by implementation details [ 8]. It can be a time-consuming and\\nfrustrating experience to debug, reproduce, and adapt existing models for DIA,\\nand many researchers who would beneﬁt the most from using these methods lack\\nthe technical background to implement them from scratch. 2) Document images\\ncontain diverse and disparate patterns across domains, and customized training\\nis often required to achieve a desirable detection accuracy. Currently there is no\\nfull-ﬂedged infrastructure for easily curating the target document image datasets\\nand ﬁne-tuning or re-training the models. 3) DIA usually requires a sequence of\\nmodels and other processing to obtain the ﬁnal outputs. Often research teams use\\nDL models and then perform further document analyses in separate processes,\\nand these pipelines are not documented in any central location (and often not\\ndocumented at all). This makes it diﬃcult for research teams to learn about how\\nfull pipelines are implemented and leads them to invest signiﬁcant resources in\\nreinventing the DIA wheel .\\nLayoutParser provides a uniﬁed toolkit to support DL-based document image\\nanalysis and processing. To address the aforementioned challenges,LayoutParser\\nis built with the following components:\\n1. An oﬀ-the-shelf toolkit for applying DL models for layout detection, character\\nrecognition, and other DIA tasks (Section 3)\\n2. A rich repository of pre-trained neural network models (Model Zoo) that\\nunderlies the oﬀ-the-shelf usage\\n3. Comprehensive tools for eﬃcient document image data annotation and model\\ntuning to support diﬀerent levels of customization\\n4. A DL model hub and community platform for the easy sharing, distribu-\\ntion, and discussion of DIA models and pipelines, to promote reusability,\\nreproducibility, and extensibility (Section 4)\\nThe library implements simple and intuitive Python APIs without sacriﬁcing\\ngeneralizability and versatility, and can be easily installed via pip. Its convenient\\nfunctions for handling document image data can be seamlessly integrated with\\nexisting DIA pipelines. With detailed documentations and carefully curated\\ntutorials, we hope this tool will beneﬁt a variety of end-users, and will lead to\\nadvances in applications in both industry and academic research.\\nLayoutParser is well aligned with recent eﬀorts for improving DL model\\nreusability in other disciplines like natural language processing [ 8, 34] and com-\\nputer vision [ 35], but with a focus on unique challenges in DIA. We show\\nLayoutParser can be applied in sophisticated and large-scale digitization projects'), Document(metadata={'producer': 'pdfTeX-1.40.21', 'creator': 'LaTeX with hyperref', 'creationdate': '2021-06-22T01:27:10+00:00', 'author': '', 'keywords': '', 'moddate': '2021-06-22T01:27:10+00:00', 'ptex.fullbanner': 'This is pdfTeX, Version 3.14159265-2.6-1.40.21 (TeX Live 2020) kpathsea version 6.3.2', 'subject': '', 'title': '', 'trapped': '/False', 'source': '/home/sener/Descargas/RAG_functions/layout-parser-paper.pdf', 'total_pages': 16, 'page': 2, 'page_label': '3'}, page_content='LayoutParser: A Uniﬁed Toolkit for DL-Based DIA 3\\nthat require precision, eﬃciency, and robustness, as well as simple and light-\\nweight document processing tasks focusing on eﬃcacy and ﬂexibility (Section 5).\\nLayoutParser is being actively maintained, and support for more deep learning\\nmodels and novel methods in text-based layout analysis methods [ 37, 34] is\\nplanned.\\nThe rest of the paper is organized as follows. Section 2 provides an overview\\nof related work. The core LayoutParser library, DL Model Zoo, and customized\\nmodel training are described in Section 3, and the DL model hub and commu-\\nnity platform are detailed in Section 4. Section 5 shows two examples of how\\nLayoutParser can be used in practical DIA projects, and Section 6 concludes.\\n2 Related Work\\nRecently, various DL models and datasets have been developed for layout analysis\\ntasks. The dhSegment [ 22] utilizes fully convolutional networks [ 20] for segmen-\\ntation tasks on historical documents. Object detection-based methods like Faster\\nR-CNN [28] and Mask R-CNN [12] are used for identifying document elements [38]\\nand detecting tables [30, 26]. Most recently, Graph Neural Networks [29] have also\\nbeen used in table detection [ 27]. However, these models are usually implemented\\nindividually and there is no uniﬁed framework to load and use such models.\\nThere has been a surge of interest in creating open-source tools for document\\nimage processing: a search of document image analysis in Github leads to 5M\\nrelevant code pieces 6; yet most of them rely on traditional rule-based methods\\nor provide limited functionalities. The closest prior research to our work is the\\nOCR-D project7, which also tries to build a complete toolkit for DIA. However,\\nsimilar to the platform developed by Neudecker et al. [ 21], it is designed for\\nanalyzing historical documents, and provides no supports for recent DL models.\\nThe DocumentLayoutAnalysis project8 focuses on processing born-digital PDF\\ndocuments via analyzing the stored PDF data. Repositories like DeepLayout9\\nand Detectron2-PubLayNet10 are individual deep learning models trained on\\nlayout analysis datasets without support for the full DIA pipeline. The Document\\nAnalysis and Exploitation (DAE) platform [ 15] and the DeepDIVA project [ 2]\\naim to improve the reproducibility of DIA methods (or DL models), yet they\\nare not actively maintained. OCR engines like Tesseract [14], easyOCR11 and\\npaddleOCR12 usually do not come with comprehensive functionalities for other\\nDIA tasks like layout analysis.\\nRecent years have also seen numerous eﬀorts to create libraries for promoting\\nreproducibility and reusability in the ﬁeld of DL. Libraries like Dectectron2 [ 35],\\n6 The number shown is obtained by specifying the search type as ‘code’.\\n7 https://ocr-d.de/en/about\\n8 https://github.com/BobLd/DocumentLayoutAnalysis\\n9 https://github.com/leonlulu/DeepLayout\\n10 https://github.com/hpanwar08/detectron2\\n11 https://github.com/JaidedAI/EasyOCR\\n12 https://github.com/PaddlePaddle/PaddleOCR'), Document(metadata={'producer': 'pdfTeX-1.40.21', 'creator': 'LaTeX with hyperref', 'creationdate': '2021-06-22T01:27:10+00:00', 'author': '', 'keywords': '', 'moddate': '2021-06-22T01:27:10+00:00', 'ptex.fullbanner': 'This is pdfTeX, Version 3.14159265-2.6-1.40.21 (TeX Live 2020) kpathsea version 6.3.2', 'subject': '', 'title': '', 'trapped': '/False', 'source': '/home/sener/Descargas/RAG_functions/layout-parser-paper.pdf', 'total_pages': 16, 'page': 3, 'page_label': '4'}, page_content='4 Z. Shen et al.\\nEfficient Data Annotation\\nC u s t o m i z e d  M o d e l  T r a i n i n g\\nModel Cust omization\\nDI A Model Hub\\nDI A Pipeline Sharing\\nCommunity Platform\\nLa y out Detection Models\\nDocument Images \\nT h e  C o r e  L a y o u t P a r s e r  L i b r a r y\\nOCR Module St or age & VisualizationLa y out Data Structur e\\nFig. 1: The overall architecture of LayoutParser. For an input document image,\\nthe core LayoutParser library provides a set of oﬀ-the-shelf tools for layout\\ndetection, OCR, visualization, and storage, backed by a carefully designed layout\\ndata structure. LayoutParser also supports high level customization via eﬃcient\\nlayout annotation and model training functions. These improve model accuracy\\non the target samples. The community platform enables the easy sharing of DIA\\nmodels and whole digitization pipelines to promote reusability and reproducibility.\\nA collection of detailed documentation, tutorials and exemplar projects make\\nLayoutParser easy to learn and use.\\nAllenNLP [8] and transformers [ 34] have provided the community with complete\\nDL-based support for developing and deploying models for general computer\\nvision and natural language processing problems. LayoutParser, on the other\\nhand, specializes speciﬁcally in DIA tasks. LayoutParser is also equipped with a\\ncommunity platform inspired by established model hubs such as Torch Hub [23]\\nand TensorFlow Hub [1]. It enables the sharing of pretrained models as well as\\nfull document processing pipelines that are unique to DIA tasks.\\nThere have been a variety of document data collections to facilitate the\\ndevelopment of DL models. Some examples include PRImA [3](magazine layouts),\\nPubLayNet [38](academic paper layouts), Table Bank [ 18](tables in academic\\npapers), Newspaper Navigator Dataset [ 16, 17](newspaper ﬁgure layouts) and\\nHJDataset [31](historical Japanese document layouts). A spectrum of models\\ntrained on these datasets are currently available in the LayoutParser model zoo\\nto support diﬀerent use cases.\\n3 The Core LayoutParser Library\\nAt the core of LayoutParser is an oﬀ-the-shelf toolkit that streamlines DL-\\nbased document image analysis. Five components support a simple interface\\nwith comprehensive functionalities: 1) The layout detection models enable using\\npre-trained or self-trained DL models for layout detection with just four lines\\nof code. 2) The detected layout information is stored in carefully engineered'), Document(metadata={'producer': 'pdfTeX-1.40.21', 'creator': 'LaTeX with hyperref', 'creationdate': '2021-06-22T01:27:10+00:00', 'author': '', 'keywords': '', 'moddate': '2021-06-22T01:27:10+00:00', 'ptex.fullbanner': 'This is pdfTeX, Version 3.14159265-2.6-1.40.21 (TeX Live 2020) kpathsea version 6.3.2', 'subject': '', 'title': '', 'trapped': '/False', 'source': '/home/sener/Descargas/RAG_functions/layout-parser-paper.pdf', 'total_pages': 16, 'page': 4, 'page_label': '5'}, page_content='LayoutParser: A Uniﬁed Toolkit for DL-Based DIA 5\\nTable 1: Current layout detection models in the LayoutParser model zoo\\nDataset Base Model1 Large ModelNotes\\nPubLayNet [38] F / M M Layouts of modern scientiﬁc documents\\nPRImA [3] M - Layouts of scanned modern magazines and scientiﬁc reports\\nNewspaper [17] F - Layouts of scanned US newspapers from the 20th century\\nTableBank [18] F F Table region on modern scientiﬁc and business document\\nHJDataset [31] F / M - Layouts of history Japanese documents\\n1For each dataset, we train several models of diﬀerent sizes for diﬀerent needs (the trade-oﬀ between accuracy\\nvs. computational cost). For “base model” and “large model”, we refer to using the ResNet 50 or ResNet 101\\nbackbones [13], respectively. One can train models of diﬀerent architectures, like Faster R-CNN [28] (F) and Mask\\nR-CNN [12] (M). For example, an F in the Large Model column indicates it has a Faster R-CNN model trained\\nusing the ResNet 101 backbone. The platform is maintained and a number of additions will be made to the model\\nzoo in coming months.\\nlayout data structures, which are optimized for eﬃciency and versatility. 3) When\\nnecessary, users can employ existing or customized OCR models via the uniﬁed\\nAPI provided in the OCR module. 4) LayoutParser comes with a set of utility\\nfunctions for the visualization and storage of the layout data. 5) LayoutParser\\nis also highly customizable, via its integration with functions for layout data\\nannotation and model training . We now provide detailed descriptions for each\\ncomponent.\\n3.1 Layout Detection Models\\nIn LayoutParser, a layout model takes a document image as an input and\\ngenerates a list of rectangular boxes for the target content regions. Diﬀerent\\nfrom traditional methods, it relies on deep convolutional neural networks rather\\nthan manually curated rules to identify content regions. It is formulated as an\\nobject detection problem and state-of-the-art models like Faster R-CNN [ 28] and\\nMask R-CNN [12] are used. This yields prediction results of high accuracy and\\nmakes it possible to build a concise, generalized interface for layout detection.\\nLayoutParser, built upon Detectron2 [ 35], provides a minimal API that can\\nperform layout detection with only four lines of code in Python:\\n1 import layoutparser as lp\\n2 image = cv2 . imread (\" image_file \") # load images\\n3 model = lp. Detectron2LayoutModel (\\n4 \"lp :// PubLayNet / faster_rcnn_R_50_FPN_3x / config \")\\n5 layout = model . detect ( image )\\nLayoutParser provides a wealth of pre-trained model weights using various\\ndatasets covering diﬀerent languages, time periods, and document types. Due to\\ndomain shift [7], the prediction performance can notably drop when models are ap-\\nplied to target samples that are signiﬁcantly diﬀerent from the training dataset. As\\ndocument structures and layouts vary greatly in diﬀerent domains, it is important\\nto select models trained on a dataset similar to the test samples. A semantic syntax\\nis used for initializing the model weights in LayoutParser, using both the dataset\\nname and model name lp://<dataset-name>/<model-architecture-name>.'), Document(metadata={'producer': 'pdfTeX-1.40.21', 'creator': 'LaTeX with hyperref', 'creationdate': '2021-06-22T01:27:10+00:00', 'author': '', 'keywords': '', 'moddate': '2021-06-22T01:27:10+00:00', 'ptex.fullbanner': 'This is pdfTeX, Version 3.14159265-2.6-1.40.21 (TeX Live 2020) kpathsea version 6.3.2', 'subject': '', 'title': '', 'trapped': '/False', 'source': '/home/sener/Descargas/RAG_functions/layout-parser-paper.pdf', 'total_pages': 16, 'page': 5, 'page_label': '6'}, page_content='6 Z. Shen et al.\\nFig. 2: The relationship between the three types of layout data structures.\\nCoordinate supports three kinds of variation; TextBlock consists of the co-\\nordinate information and extra features like block text, types, and reading orders;\\na Layout object is a list of all possible layout elements, including other Layout\\nobjects. They all support the same set of transformation and operation APIs for\\nmaximum ﬂexibility.\\nShown in Table 1, LayoutParser currently hosts 9 pre-trained models trained\\non 5 diﬀerent datasets. Description of the training dataset is provided alongside\\nwith the trained models such that users can quickly identify the most suitable\\nmodels for their tasks. Additionally, when such a model is not readily available,\\nLayoutParser also supports training customized layout models and community\\nsharing of the models (detailed in Section 3.5).\\n3.2 Layout Data Structures\\nA critical feature of LayoutParser is the implementation of a series of data\\nstructures and operations that can be used to eﬃciently process and manipulate\\nthe layout elements. In document image analysis pipelines, various post-processing\\non the layout analysis model outputs is usually required to obtain the ﬁnal\\noutputs. Traditionally, this requires exporting DL model outputs and then loading\\nthe results into other pipelines. All model outputs from LayoutParser will be\\nstored in carefully engineered data types optimized for further processing, which\\nmakes it possible to build an end-to-end document digitization pipeline within\\nLayoutParser. There are three key components in the data structure, namely\\nthe Coordinate system, the TextBlock, and the Layout. They provide diﬀerent\\nlevels of abstraction for the layout data, and a set of APIs are supported for\\ntransformations or operations on these classes.'), Document(metadata={'producer': 'pdfTeX-1.40.21', 'creator': 'LaTeX with hyperref', 'creationdate': '2021-06-22T01:27:10+00:00', 'author': '', 'keywords': '', 'moddate': '2021-06-22T01:27:10+00:00', 'ptex.fullbanner': 'This is pdfTeX, Version 3.14159265-2.6-1.40.21 (TeX Live 2020) kpathsea version 6.3.2', 'subject': '', 'title': '', 'trapped': '/False', 'source': '/home/sener/Descargas/RAG_functions/layout-parser-paper.pdf', 'total_pages': 16, 'page': 6, 'page_label': '7'}, page_content='LayoutParser: A Uniﬁed Toolkit for DL-Based DIA 7\\nCoordinates are the cornerstones for storing layout information. Currently,\\nthree types of Coordinate data structures are provided in LayoutParser, shown\\nin Figure 2. Interval and Rectangle are the most common data types and\\nsupport specifying 1D or 2D regions within a document. They are parameterized\\nwith 2 and 4 parameters. A Quadrilateral class is also implemented to support\\na more generalized representation of rectangular regions when the document\\nis skewed or distorted, where the 4 corner points can be speciﬁed and a total\\nof 8 degrees of freedom are supported. A wide collection of transformations\\nlike shift, pad, and scale, and operations like intersect, union, and is_in,\\nare supported for these classes. Notably, it is common to separate a segment\\nof the image and analyze it individually. LayoutParser provides full support\\nfor this scenario via image cropping operations crop_image and coordinate\\ntransformations like relative_to and condition_on that transform coordinates\\nto and from their relative representations. We refer readers to Table 2 for a more\\ndetailed description of these operations 13.\\nBased on Coordinates, we implement the TextBlock class that stores both\\nthe positional and extra features of individual layout elements. It also supports\\nspecifying the reading orders via setting theparent ﬁeld to the index of the parent\\nobject. A Layout class is built that takes in a list of TextBlocks and supports\\nprocessing the elements in batch.Layout can also be nested to support hierarchical\\nlayout structures. They support the same operations and transformations as the\\nCoordinate classes, minimizing both learning and deployment eﬀort.\\n3.3 OCR\\nLayoutParser provides a uniﬁed interface for existing OCR tools. Though there\\nare many OCR tools available, they are usually conﬁgured diﬀerently with distinct\\nAPIs or protocols for using them. It can be ineﬃcient to add new OCR tools into\\nan existing pipeline, and diﬃcult to make direct comparisons among the available\\ntools to ﬁnd the best option for a particular project. To this end, LayoutParser\\nbuilds a series of wrappers among existing OCR engines, and provides nearly\\nthe same syntax for using them. It supports a plug-and-play style of using OCR\\nengines, making it eﬀortless to switch, evaluate, and compare diﬀerent OCR\\nmodules:\\n1 ocr_agent = lp. TesseractAgent ()\\n2 # Can be easily switched to other OCR software\\n3 tokens = ocr_agent . detect ( image )\\nThe OCR outputs will also be stored in the aforementioned layout data\\nstructures and can be seamlessly incorporated into the digitization pipeline.\\nCurrently LayoutParser supports the Tesseract and Google Cloud Vision OCR\\nengines.\\nLayoutParser also comes with a DL-based CNN-RNN OCR model [6] trained\\nwith the Connectionist Temporal Classiﬁcation (CTC) loss [ 10]. It can be used\\nlike the other OCR modules, and can be easily trained on customized datasets.\\n13 This is also available in the LayoutParser documentation pages.'), Document(metadata={'producer': 'pdfTeX-1.40.21', 'creator': 'LaTeX with hyperref', 'creationdate': '2021-06-22T01:27:10+00:00', 'author': '', 'keywords': '', 'moddate': '2021-06-22T01:27:10+00:00', 'ptex.fullbanner': 'This is pdfTeX, Version 3.14159265-2.6-1.40.21 (TeX Live 2020) kpathsea version 6.3.2', 'subject': '', 'title': '', 'trapped': '/False', 'source': '/home/sener/Descargas/RAG_functions/layout-parser-paper.pdf', 'total_pages': 16, 'page': 7, 'page_label': '8'}, page_content='8 Z. Shen et al.\\nTable 2: All operations supported by the layout elements. The same APIs are\\nsupported across diﬀerent layout element classes including Coordinate types,\\nTextBlock and Layout.\\nOperation Name Description\\nblock.pad(top, bottom, right, left)Enlarge the current block according to the input\\nblock.scale(fx, fy) Scale the current block given the ratio\\nin x and y direction\\nblock.shift(dx, dy) Move the current block with the shift\\ndistances in x and y direction\\nblock1.isin(block2) Whether block1 is inside of block2\\nblock1.intersect(block2) Return the intersection region of block1 and block2.\\nCoordinate type to be determined based on the inputs.\\nblock1.union(block2) Return the union region of block1 and block2.\\nCoordinate type to be determined based on the inputs.\\nblock1.relativeto(block2) Convert the absolute coordinates of block1 to\\nrelative coordinates to block2\\nblock1.conditionon(block2) Calculate the absolute coordinates of block1 given\\nthe canvas block2’s absolute coordinates\\nblock.cropimage(image) Obtain the image segments in the block region\\n3.4 Storage and visualization\\nThe end goal of DIA is to transform the image-based document data into a\\nstructured database. LayoutParser supports exporting layout data into diﬀerent\\nformats like JSON, csv, and will add the support for the METS/ALTO XML\\nformat 14 . It can also load datasets from layout analysis-speciﬁc formats like\\nCOCO [38] and the Page Format [25] for training layout models (Section 3.5).\\nVisualization of the layout detection results is critical for both presentation\\nand debugging. LayoutParser is built with an integrated API for displaying the\\nlayout information along with the original document image. Shown in Figure 3, it\\nenables presenting layout data with rich meta information and features in diﬀerent\\nmodes. More detailed information can be found in the online LayoutParser\\ndocumentation page.\\n3.5 Customized Model Training\\nBesides the oﬀ-the-shelf library, LayoutParser is also highly customizable with\\nsupports for highly unique and challenging document analysis tasks. Target\\ndocument images can be vastly diﬀerent from the existing datasets for train-\\ning layout models, which leads to low layout detection accuracy. Training data\\n14 https://altoxml.github.io'), Document(metadata={'producer': 'pdfTeX-1.40.21', 'creator': 'LaTeX with hyperref', 'creationdate': '2021-06-22T01:27:10+00:00', 'author': '', 'keywords': '', 'moddate': '2021-06-22T01:27:10+00:00', 'ptex.fullbanner': 'This is pdfTeX, Version 3.14159265-2.6-1.40.21 (TeX Live 2020) kpathsea version 6.3.2', 'subject': '', 'title': '', 'trapped': '/False', 'source': '/home/sener/Descargas/RAG_functions/layout-parser-paper.pdf', 'total_pages': 16, 'page': 8, 'page_label': '9'}, page_content='LayoutParser: A Uniﬁed Toolkit for DL-Based DIA 9\\nFig. 3: Layout detection and OCR results visualization generated by the\\nLayoutParser APIs. Mode I directly overlays the layout region bounding boxes\\nand categories over the original image. Mode II recreates the original document\\nvia drawing the OCR’d texts at their corresponding positions on the image\\ncanvas. In this ﬁgure, tokens in textual regions are ﬁltered using the API and\\nthen displayed.\\ncan also be highly sensitive and not sharable publicly. To overcome these chal-\\nlenges, LayoutParser is built with rich features for eﬃcient data annotation and\\ncustomized model training.\\nLayoutParser incorporates a toolkit optimized for annotating document lay-\\nouts using object-level active learning [ 32]. With the help from a layout detection\\nmodel trained along with labeling, only the most important layout objects within\\neach image, rather than the whole image, are required for labeling. The rest of\\nthe regions are automatically annotated with high conﬁdence predictions from\\nthe layout detection model. This allows a layout dataset to be created more\\neﬃciently with only around 60% of the labeling budget.\\nAfter the training dataset is curated, LayoutParser supports diﬀerent modes\\nfor training the layout models. Fine-tuning can be used for training models on a\\nsmall newly-labeled dataset by initializing the model with existing pre-trained\\nweights. Training from scratch can be helpful when the source dataset and\\ntarget are signiﬁcantly diﬀerent and a large training set is available. However, as\\nsuggested in Studer et al.’s work[ 33], loading pre-trained weights on large-scale\\ndatasets like ImageNet [5], even from totally diﬀerent domains, can still boost\\nmodel performance. Through the integrated API provided by LayoutParser,\\nusers can easily compare model performances on the benchmark datasets.'), Document(metadata={'producer': 'pdfTeX-1.40.21', 'creator': 'LaTeX with hyperref', 'creationdate': '2021-06-22T01:27:10+00:00', 'author': '', 'keywords': '', 'moddate': '2021-06-22T01:27:10+00:00', 'ptex.fullbanner': 'This is pdfTeX, Version 3.14159265-2.6-1.40.21 (TeX Live 2020) kpathsea version 6.3.2', 'subject': '', 'title': '', 'trapped': '/False', 'source': '/home/sener/Descargas/RAG_functions/layout-parser-paper.pdf', 'total_pages': 16, 'page': 9, 'page_label': '10'}, page_content='10 Z. Shen et al.\\nFig. 4: Illustration of (a) the original historical Japanese document with layout\\ndetection results and (b) a recreated version of the document image that achieves\\nmuch better character recognition recall. The reorganization algorithm rearranges\\nthe tokens based on the their detected bounding boxes given a maximum allowed\\nheight.\\n4 LayoutParser Community Platform\\nAnother focus of LayoutParser is promoting the reusability of layout detection\\nmodels and full digitization pipelines. Similar to many existing deep learning\\nlibraries, LayoutParser comes with a community model hub for distributing\\nlayout models. End-users can upload their self-trained models to the model hub,\\nand these models can be loaded into a similar interface as the currently available\\nLayoutParser pre-trained models. For example, the model trained on the News\\nNavigator dataset [17] has been incorporated in the model hub.\\nBeyond DL models, LayoutParser also promotes the sharing of entire doc-\\nument digitization pipelines. For example, sometimes the pipeline requires the\\ncombination of multiple DL models to achieve better accuracy. Currently, pipelines\\nare mainly described in academic papers and implementations are often not pub-\\nlicly available. To this end, the LayoutParser community platform also enables\\nthe sharing of layout pipelines to promote the discussion and reuse of techniques.\\nFor each shared pipeline, it has a dedicated project page, with links to the source\\ncode, documentation, and an outline of the approaches. A discussion panel is\\nprovided for exchanging ideas. Combined with the core LayoutParser library,\\nusers can easily build reusable components based on the shared pipelines and\\napply them to solve their unique problems.\\n5 Use Cases\\nThe core objective of LayoutParser is to make it easier to create both large-scale\\nand light-weight document digitization pipelines. Large-scale document processing'), Document(metadata={'producer': 'pdfTeX-1.40.21', 'creator': 'LaTeX with hyperref', 'creationdate': '2021-06-22T01:27:10+00:00', 'author': '', 'keywords': '', 'moddate': '2021-06-22T01:27:10+00:00', 'ptex.fullbanner': 'This is pdfTeX, Version 3.14159265-2.6-1.40.21 (TeX Live 2020) kpathsea version 6.3.2', 'subject': '', 'title': '', 'trapped': '/False', 'source': '/home/sener/Descargas/RAG_functions/layout-parser-paper.pdf', 'total_pages': 16, 'page': 10, 'page_label': '11'}, page_content='LayoutParser: A Uniﬁed Toolkit for DL-Based DIA 11\\nfocuses on precision, eﬃciency, and robustness. The target documents may have\\ncomplicated structures, and may require training multiple layout detection models\\nto achieve the optimal accuracy. Light-weight pipelines are built for relatively\\nsimple documents, with an emphasis on development ease, speed and ﬂexibility.\\nIdeally one only needs to use existing resources, and model training should be\\navoided. Through two exemplar projects, we show how practitioners in both\\nacademia and industry can easily build such pipelines using LayoutParser and\\nextract high-quality structured document data for their downstream tasks. The\\nsource code for these projects will be publicly available in the LayoutParser\\ncommunity hub.\\n5.1 A Comprehensive Historical Document Digitization Pipeline\\nThe digitization of historical documents can unlock valuable data that can shed\\nlight on many important social, economic, and historical questions. Yet due to\\nscan noises, page wearing, and the prevalence of complicated layout structures, ob-\\ntaining a structured representation of historical document scans is often extremely\\ncomplicated.\\nFig. 5: Illustration of how LayoutParser\\nhelps with the historical document digi-\\ntization pipeline.\\nIn this example, LayoutParser was\\nused to develop a comprehensive\\npipeline, shown in Figure 5, to gener-\\nate high-quality structured data from\\nhistorical Japanese ﬁrm ﬁnancial ta-\\nbles with complicated layouts. The\\npipeline applies two layout models to\\nidentify diﬀerent levels of document\\nstructures and two customized OCR\\nengines for optimized character recog-\\nnition accuracy.\\nAs shown in Figure 4 (a), the\\ndocument contains columns of text\\nwritten vertically 15, a common style\\nin Japanese. Due to scanning noise\\nand archaic printing technology, the\\ncolumns can be skewed or have vari-\\nable widths, and hence cannot be eas-\\nily identiﬁed via rule-based methods.\\nWithin each column, words are sepa-\\nrated by white spaces of variable size,\\nand the vertical positions of objects\\ncan be an indicator of their layout\\ntype.\\n15 A document page consists of eight rows like this. For simplicity we skip the row\\nsegmentation discussion and refer readers to the source code when available.'), Document(metadata={'producer': 'pdfTeX-1.40.21', 'creator': 'LaTeX with hyperref', 'creationdate': '2021-06-22T01:27:10+00:00', 'author': '', 'keywords': '', 'moddate': '2021-06-22T01:27:10+00:00', 'ptex.fullbanner': 'This is pdfTeX, Version 3.14159265-2.6-1.40.21 (TeX Live 2020) kpathsea version 6.3.2', 'subject': '', 'title': '', 'trapped': '/False', 'source': '/home/sener/Descargas/RAG_functions/layout-parser-paper.pdf', 'total_pages': 16, 'page': 11, 'page_label': '12'}, page_content='12 Z. Shen et al.\\nTo decipher the complicated layout\\nstructure, two object detection models have been trained to recognize individual\\ncolumns and tokens, respectively. A small training set (400 images with approxi-\\nmately 100 annotations each) is curated via the active learning based annotation\\ntool [32] in LayoutParser. The models learn to identify both the categories and\\nregions for each token or column via their distinct visual features. The layout\\ndata structure enables easy grouping of the tokens within each column, and\\nrearranging columns to achieve the correct reading orders based on the horizontal\\nposition. Errors are identiﬁed and rectiﬁed via checking the consistency of the\\nmodel predictions. Therefore, though trained on a small dataset, the pipeline\\nachieves a high level of layout detection accuracy: it achieves a 96.97 AP [ 19]\\nscore across 5 categories for the column detection model, and a 89.23 AP across\\n4 categories for the token detection model.\\nA combination of character recognition methods is developed to tackle the\\nunique challenges in this document. In our experiments, we found that irregular\\nspacing between the tokens led to a low character recognition recall rate, whereas\\nexisting OCR models tend to perform better on densely-arranged texts. To\\novercome this challenge, we create a document reorganization algorithm that\\nrearranges the text based on the token bounding boxes detected in the layout\\nanalysis step. Figure 4 (b) illustrates the generated image of dense text, which is\\nsent to the OCR APIs as a whole to reduce the transaction costs. The ﬂexible\\ncoordinate system in LayoutParser is used to transform the OCR results relative\\nto their original positions on the page.\\nAdditionally, it is common for historical documents to use unique fonts\\nwith diﬀerent glyphs, which signiﬁcantly degrades the accuracy of OCR models\\ntrained on modern texts. In this document, a special ﬂat font is used for printing\\nnumbers and could not be detected by oﬀ-the-shelf OCR engines. Using the highly\\nﬂexible functionalities from LayoutParser, a pipeline approach is constructed\\nthat achieves a high recognition accuracy with minimal eﬀort. As the characters\\nhave unique visual structures and are usually clustered together, we train the\\nlayout model to identify number regions with a dedicated category. Subsequently,\\nLayoutParser crops images within these regions, and identiﬁes characters within\\nthem using a self-trained OCR model based on a CNN-RNN [ 6]. The model\\ndetects a total of 15 possible categories, and achieves a 0.98 Jaccard score 16 and\\na 0.17 average Levinstein distances 17 for token prediction on the test set.\\nOverall, it is possible to create an intricate and highly accurate digitization\\npipeline for large-scale digitization using LayoutParser. The pipeline avoids\\nspecifying the complicated rules used in traditional methods, is straightforward\\nto develop, and is robust to outliers. The DL models also generate ﬁne-grained\\nresults that enable creative approaches like page reorganization for OCR.\\n16 This measures the overlap between the detected and ground-truth characters, and\\nthe maximum is 1.\\n17 This measures the number of edits from the ground-truth text to the predicted text,\\nand lower is better.'), Document(metadata={'producer': 'pdfTeX-1.40.21', 'creator': 'LaTeX with hyperref', 'creationdate': '2021-06-22T01:27:10+00:00', 'author': '', 'keywords': '', 'moddate': '2021-06-22T01:27:10+00:00', 'ptex.fullbanner': 'This is pdfTeX, Version 3.14159265-2.6-1.40.21 (TeX Live 2020) kpathsea version 6.3.2', 'subject': '', 'title': '', 'trapped': '/False', 'source': '/home/sener/Descargas/RAG_functions/layout-parser-paper.pdf', 'total_pages': 16, 'page': 12, 'page_label': '13'}, page_content='LayoutParser: A Uniﬁed Toolkit for DL-Based DIA 13\\nFig. 6: This lightweight table detector can identify tables (outlined in red) and\\ncells (shaded in blue) in diﬀerent locations on a page. In very few cases (d), it\\nmight generate minor error predictions, e.g, failing to capture the top text line of\\na table.\\n5.2 A light-weight Visual Table Extractor\\nDetecting tables and parsing their structures (table extraction) are of central im-\\nportance for many document digitization tasks. Many previous works [ 26, 30, 27]\\nand tools 18 have been developed to identify and parse table structures. Yet they\\nmight require training complicated models from scratch, or are only applicable\\nfor born-digital PDF documents. In this section, we show how LayoutParser can\\nhelp build a light-weight accurate visual table extractor for legal docket tables\\nusing the existing resources with minimal eﬀort.\\nThe extractor uses a pre-trained layout detection model for identifying the\\ntable regions and some simple rules for pairing the rows and the columns in the\\nPDF image. Mask R-CNN [ 12] trained on the PubLayNet dataset [ 38] from the\\nLayoutParser Model Zoo can be used for detecting table regions. By ﬁltering\\nout model predictions of low conﬁdence and removing overlapping predictions,\\nLayoutParser can identify the tabular regions on each page, which signiﬁcantly\\nsimpliﬁes the subsequent steps. By applying the line detection functions within\\nthe tabular segments, provided in the utility module from LayoutParser, the\\npipeline can identify the three distinct columns in the tables. A row clustering\\nmethod is then applied via analyzing the y coordinates of token bounding boxes in\\nthe left-most column, which are obtained from the OCR engines. A non-maximal\\nsuppression algorithm is used to remove duplicated rows with extremely small\\ngaps. Shown in Figure 6, the built pipeline can detect tables at diﬀerent positions\\non a page accurately. Continued tables from diﬀerent pages are concatenated,\\nand a structured table representation has been easily created.\\n18 https://github.com/atlanhq/camelot, https://github.com/tabulapdf/tabula'), Document(metadata={'producer': 'pdfTeX-1.40.21', 'creator': 'LaTeX with hyperref', 'creationdate': '2021-06-22T01:27:10+00:00', 'author': '', 'keywords': '', 'moddate': '2021-06-22T01:27:10+00:00', 'ptex.fullbanner': 'This is pdfTeX, Version 3.14159265-2.6-1.40.21 (TeX Live 2020) kpathsea version 6.3.2', 'subject': '', 'title': '', 'trapped': '/False', 'source': '/home/sener/Descargas/RAG_functions/layout-parser-paper.pdf', 'total_pages': 16, 'page': 13, 'page_label': '14'}, page_content='14 Z. Shen et al.\\n6 Conclusion\\nLayoutParser provides a comprehensive toolkit for deep learning-based document\\nimage analysis. The oﬀ-the-shelf library is easy to install, and can be used to\\nbuild ﬂexible and accurate pipelines for processing documents with complicated\\nstructures. It also supports high-level customization and enables easy labeling and\\ntraining of DL models on unique document image datasets. The LayoutParser\\ncommunity platform facilitates sharing DL models and DIA pipelines, inviting\\ndiscussion and promoting code reproducibility and reusability. TheLayoutParser\\nteam is committed to keeping the library updated continuously and bringing\\nthe most recent advances in DL-based DIA, such as multi-modal document\\nmodeling [37, 36, 9] (an upcoming priority), to a diverse audience of end-users.\\nAcknowledgements We thank the anonymous reviewers for their comments\\nand suggestions. This project is supported in part by NSF Grant OIA-2033558\\nand funding from the Harvard Data Science Initiative and Harvard Catalyst.\\nZejiang Shen thanks Doug Downey for suggestions.\\nReferences\\n[1] Abadi, M., Agarwal, A., Barham, P., Brevdo, E., Chen, Z., Citro, C., Corrado,\\nG.S., Davis, A., Dean, J., Devin, M., Ghemawat, S., Goodfellow, I., Harp, A.,\\nIrving, G., Isard, M., Jia, Y., Jozefowicz, R., Kaiser, L., Kudlur, M., Levenberg,\\nJ., Man´ e, D., Monga, R., Moore, S., Murray, D., Olah, C., Schuster, M., Shlens, J.,\\nSteiner, B., Sutskever, I., Talwar, K., Tucker, P., Vanhoucke, V., Vasudevan, V.,\\nVi´ egas, F., Vinyals, O., Warden, P., Wattenberg, M., Wicke, M., Yu, Y., Zheng,\\nX.: TensorFlow: Large-scale machine learning on heterogeneous systems (2015),\\nhttps://www.tensorflow.org/, software available from tensorﬂow.org\\n[2] Alberti, M., Pondenkandath, V., W¨ ursch, M., Ingold, R., Liwicki, M.: Deepdiva: a\\nhighly-functional python framework for reproducible experiments. In: 2018 16th\\nInternational Conference on Frontiers in Handwriting Recognition (ICFHR). pp.\\n423–428. IEEE (2018)\\n[3] Antonacopoulos, A., Bridson, D., Papadopoulos, C., Pletschacher, S.: A realistic\\ndataset for performance evaluation of document layout analysis. In: 2009 10th\\nInternational Conference on Document Analysis and Recognition. pp. 296–300.\\nIEEE (2009)\\n[4] Baek, Y., Lee, B., Han, D., Yun, S., Lee, H.: Character region awareness for text\\ndetection. In: Proceedings of the IEEE/CVF Conference on Computer Vision and\\nPattern Recognition. pp. 9365–9374 (2019)\\n[5] Deng, J., Dong, W., Socher, R., Li, L.J., Li, K., Fei-Fei, L.: ImageNet: A Large-Scale\\nHierarchical Image Database. In: CVPR09 (2009)\\n[6] Deng, Y., Kanervisto, A., Ling, J., Rush, A.M.: Image-to-markup generation with\\ncoarse-to-ﬁne attention. In: International Conference on Machine Learning. pp.\\n980–989. PMLR (2017)\\n[7] Ganin, Y., Lempitsky, V.: Unsupervised domain adaptation by backpropagation.\\nIn: International conference on machine learning. pp. 1180–1189. PMLR (2015)'), Document(metadata={'producer': 'pdfTeX-1.40.21', 'creator': 'LaTeX with hyperref', 'creationdate': '2021-06-22T01:27:10+00:00', 'author': '', 'keywords': '', 'moddate': '2021-06-22T01:27:10+00:00', 'ptex.fullbanner': 'This is pdfTeX, Version 3.14159265-2.6-1.40.21 (TeX Live 2020) kpathsea version 6.3.2', 'subject': '', 'title': '', 'trapped': '/False', 'source': '/home/sener/Descargas/RAG_functions/layout-parser-paper.pdf', 'total_pages': 16, 'page': 14, 'page_label': '15'}, page_content='LayoutParser: A Uniﬁed Toolkit for DL-Based DIA 15\\n[8] Gardner, M., Grus, J., Neumann, M., Tafjord, O., Dasigi, P., Liu, N., Peters,\\nM., Schmitz, M., Zettlemoyer, L.: Allennlp: A deep semantic natural language\\nprocessing platform. arXiv preprint arXiv:1803.07640 (2018)\\n[9]  Lukasz Garncarek, Powalski, R., Stanis lawek, T., Topolski, B., Halama, P.,\\nGrali´ nski, F.: Lambert: Layout-aware (language) modeling using bert for in-\\nformation extraction (2020)\\n[10] Graves, A., Fern´ andez, S., Gomez, F., Schmidhuber, J.: Connectionist temporal\\nclassiﬁcation: labelling unsegmented sequence data with recurrent neural networks.\\nIn: Proceedings of the 23rd international conference on Machine learning. pp.\\n369–376 (2006)\\n[11] Harley, A.W., Ufkes, A., Derpanis, K.G.: Evaluation of deep convolutional nets for\\ndocument image classiﬁcation and retrieval. In: 2015 13th International Conference\\non Document Analysis and Recognition (ICDAR). pp. 991–995. IEEE (2015)\\n[12] He, K., Gkioxari, G., Doll´ ar, P., Girshick, R.: Mask r-cnn. In: Proceedings of the\\nIEEE international conference on computer vision. pp. 2961–2969 (2017)\\n[13] He, K., Zhang, X., Ren, S., Sun, J.: Deep residual learning for image recognition.\\nIn: Proceedings of the IEEE conference on computer vision and pattern recognition.\\npp. 770–778 (2016)\\n[14] Kay, A.: Tesseract: An open-source optical character recognition engine. Linux J.\\n2007(159), 2 (Jul 2007)\\n[15] Lamiroy, B., Lopresti, D.: An open architecture for end-to-end document analysis\\nbenchmarking. In: 2011 International Conference on Document Analysis and\\nRecognition. pp. 42–47. IEEE (2011)\\n[16] Lee, B.C., Weld, D.S.: Newspaper navigator: Open faceted search for 1.5\\nmillion images. In: Adjunct Publication of the 33rd Annual ACM Sym-\\nposium on User Interface Software and Technology. p. 120–122. UIST\\n’20 Adjunct, Association for Computing Machinery, New York, NY, USA\\n(2020). https://doi.org/10.1145/3379350.3416143, https://doi-org.offcampus.\\nlib.washington.edu/10.1145/3379350.3416143\\n[17] Lee, B.C.G., Mears, J., Jakeway, E., Ferriter, M., Adams, C., Yarasavage, N.,\\nThomas, D., Zwaard, K., Weld, D.S.: The Newspaper Navigator Dataset: Extracting\\nHeadlines and Visual Content from 16 Million Historic Newspaper Pages in\\nChronicling America, p. 3055–3062. Association for Computing Machinery, New\\nYork, NY, USA (2020), https://doi.org/10.1145/3340531.3412767\\n[18] Li, M., Cui, L., Huang, S., Wei, F., Zhou, M., Li, Z.: Tablebank: Table benchmark\\nfor image-based table detection and recognition. arXiv preprint arXiv:1903.01949\\n(2019)\\n[19] Lin, T.Y., Maire, M., Belongie, S., Hays, J., Perona, P., Ramanan, D., Doll´ ar, P.,\\nZitnick, C.L.: Microsoft coco: Common objects in context. In: European conference\\non computer vision. pp. 740–755. Springer (2014)\\n[20] Long, J., Shelhamer, E., Darrell, T.: Fully convolutional networks for semantic\\nsegmentation. In: Proceedings of the IEEE conference on computer vision and\\npattern recognition. pp. 3431–3440 (2015)\\n[21] Neudecker, C., Schlarb, S., Dogan, Z.M., Missier, P., Suﬁ, S., Williams, A., Wolsten-\\ncroft, K.: An experimental workﬂow development platform for historical document\\ndigitisation and analysis. In: Proceedings of the 2011 workshop on historical\\ndocument imaging and processing. pp. 161–168 (2011)\\n[22] Oliveira, S.A., Seguin, B., Kaplan, F.: dhsegment: A generic deep-learning approach\\nfor document segmentation. In: 2018 16th International Conference on Frontiers\\nin Handwriting Recognition (ICFHR). pp. 7–12. IEEE (2018)'), Document(metadata={'producer': 'pdfTeX-1.40.21', 'creator': 'LaTeX with hyperref', 'creationdate': '2021-06-22T01:27:10+00:00', 'author': '', 'keywords': '', 'moddate': '2021-06-22T01:27:10+00:00', 'ptex.fullbanner': 'This is pdfTeX, Version 3.14159265-2.6-1.40.21 (TeX Live 2020) kpathsea version 6.3.2', 'subject': '', 'title': '', 'trapped': '/False', 'source': '/home/sener/Descargas/RAG_functions/layout-parser-paper.pdf', 'total_pages': 16, 'page': 15, 'page_label': '16'}, page_content='16 Z. Shen et al.\\n[23] Paszke, A., Gross, S., Chintala, S., Chanan, G., Yang, E., DeVito, Z., Lin, Z.,\\nDesmaison, A., Antiga, L., Lerer, A.: Automatic diﬀerentiation in pytorch (2017)\\n[24] Paszke, A., Gross, S., Massa, F., Lerer, A., Bradbury, J., Chanan, G., Killeen,\\nT., Lin, Z., Gimelshein, N., Antiga, L., et al.: Pytorch: An imperative style,\\nhigh-performance deep learning library. arXiv preprint arXiv:1912.01703 (2019)\\n[25] Pletschacher, S., Antonacopoulos, A.: The page (page analysis and ground-truth\\nelements) format framework. In: 2010 20th International Conference on Pattern\\nRecognition. pp. 257–260. IEEE (2010)\\n[26] Prasad, D., Gadpal, A., Kapadni, K., Visave, M., Sultanpure, K.: Cascadetabnet:\\nAn approach for end to end table detection and structure recognition from image-\\nbased documents. In: Proceedings of the IEEE/CVF Conference on Computer\\nVision and Pattern Recognition Workshops. pp. 572–573 (2020)\\n[27] Qasim, S.R., Mahmood, H., Shafait, F.: Rethinking table recognition using graph\\nneural networks. In: 2019 International Conference on Document Analysis and\\nRecognition (ICDAR). pp. 142–147. IEEE (2019)\\n[28] Ren, S., He, K., Girshick, R., Sun, J.: Faster r-cnn: Towards real-time object\\ndetection with region proposal networks. In: Advances in neural information\\nprocessing systems. pp. 91–99 (2015)\\n[29] Scarselli, F., Gori, M., Tsoi, A.C., Hagenbuchner, M., Monfardini, G.: The graph\\nneural network model. IEEE transactions on neural networks 20(1), 61–80 (2008)\\n[30] Schreiber, S., Agne, S., Wolf, I., Dengel, A., Ahmed, S.: Deepdesrt: Deep learning\\nfor detection and structure recognition of tables in document images. In: 2017 14th\\nIAPR international conference on document analysis and recognition (ICDAR).\\nvol. 1, pp. 1162–1167. IEEE (2017)\\n[31] Shen, Z., Zhang, K., Dell, M.: A large dataset of historical japanese documents\\nwith complex layouts. In: Proceedings of the IEEE/CVF Conference on Computer\\nVision and Pattern Recognition Workshops. pp. 548–549 (2020)\\n[32] Shen, Z., Zhao, J., Dell, M., Yu, Y., Li, W.: Olala: Object-level active learning\\nbased layout annotation. arXiv preprint arXiv:2010.01762 (2020)\\n[33] Studer, L., Alberti, M., Pondenkandath, V., Goktepe, P., Kolonko, T., Fischer,\\nA., Liwicki, M., Ingold, R.: A comprehensive study of imagenet pre-training for\\nhistorical document image analysis. In: 2019 International Conference on Document\\nAnalysis and Recognition (ICDAR). pp. 720–725. IEEE (2019)\\n[34] Wolf, T., Debut, L., Sanh, V., Chaumond, J., Delangue, C., Moi, A., Cistac, P.,\\nRault, T., Louf, R., Funtowicz, M., et al.: Huggingface’s transformers: State-of-\\nthe-art natural language processing. arXiv preprint arXiv:1910.03771 (2019)\\n[35] Wu, Y., Kirillov, A., Massa, F., Lo, W.Y., Girshick, R.: Detectron2. https://\\ngithub.com/facebookresearch/detectron2 (2019)\\n[36] Xu, Y., Xu, Y., Lv, T., Cui, L., Wei, F., Wang, G., Lu, Y., Florencio, D., Zhang, C.,\\nChe, W., et al.: Layoutlmv2: Multi-modal pre-training for visually-rich document\\nunderstanding. arXiv preprint arXiv:2012.14740 (2020)\\n[37] Xu, Y., Li, M., Cui, L., Huang, S., Wei, F., Zhou, M.: Layoutlm: Pre-training of\\ntext and layout for document image understanding (2019)\\n[38] Zhong, X., Tang, J., Yepes, A.J.: Publaynet: largest dataset ever for doc-\\nument layout analysis. In: 2019 International Conference on Document\\nAnalysis and Recognition (ICDAR). pp. 1015–1022. IEEE (Sep 2019).\\nhttps://doi.org/10.1109/ICDAR.2019.00166')]\n"
     ]
    }
   ],
   "source": [
    "from processorDoc import ProcesadorDocumento\n",
    "\n",
    "file_path = \"/home/sener/Descargas/RAG_functions/layout-parser-paper.pdf\"\n",
    "#file_path = \"/home/sener/Descargas/RAG_functions/pdf_image.pdf\"\n",
    "\n",
    "#loader = PyPDFLoader(file_path)\n",
    "procesador = ProcesadorDocumento(file_path, procesamiento_automatico=False)\n",
    "procesador.procesarDocumento()\n",
    "print(procesador.informacion)"
   ]
  },
  {
   "cell_type": "code",
   "execution_count": 2,
   "metadata": {},
   "outputs": [
    {
     "data": {
      "text/plain": [
       "list"
      ]
     },
     "execution_count": 2,
     "metadata": {},
     "output_type": "execute_result"
    }
   ],
   "source": [
    "type(procesador.informacion)"
   ]
  },
  {
   "cell_type": "code",
   "execution_count": 3,
   "metadata": {},
   "outputs": [
    {
     "name": "stdout",
     "output_type": "stream",
     "text": [
      "37\n"
     ]
    }
   ],
   "source": [
    "from processorDoc import Chunk\n",
    "\n",
    "chunks = Chunk(procesador.informacion)\n",
    "chunksLista = chunks.chunks\n",
    "print(len(chunksLista))"
   ]
  },
  {
   "cell_type": "code",
   "execution_count": 4,
   "metadata": {},
   "outputs": [
    {
     "data": {
      "text/plain": [
       "{'producer': 'pdfTeX-1.40.21',\n",
       " 'creator': 'LaTeX with hyperref',\n",
       " 'creationdate': '2021-06-22T01:27:10+00:00',\n",
       " 'author': '',\n",
       " 'keywords': '',\n",
       " 'moddate': '2021-06-22T01:27:10+00:00',\n",
       " 'ptex.fullbanner': 'This is pdfTeX, Version 3.14159265-2.6-1.40.21 (TeX Live 2020) kpathsea version 6.3.2',\n",
       " 'subject': '',\n",
       " 'title': '',\n",
       " 'trapped': '/False',\n",
       " 'source': '/home/sener/Descargas/RAG_functions/layout-parser-paper.pdf',\n",
       " 'total_pages': 16,\n",
       " 'page': 15,\n",
       " 'page_label': '16',\n",
       " 'chunk_number': 37}"
      ]
     },
     "execution_count": 4,
     "metadata": {},
     "output_type": "execute_result"
    }
   ],
   "source": [
    "chunksLista[-1].metadata"
   ]
  },
  {
   "cell_type": "code",
   "execution_count": 5,
   "metadata": {},
   "outputs": [],
   "source": [
    "from langchain_community.graphs.graph_document import Node, Relationship\n",
    "from llm import get_embeddings, get_doc_transformer, get_chat_llm\n",
    "import os\n",
    "\n",
    "from neo4jDb import get_graph_db\n",
    "graph = get_graph_db()\n",
    "embedding_provider = get_embeddings()\n",
    "doc_transformer = get_doc_transformer()\n",
    "\n",
    "def process_chunk(chunk):\n",
    "#for chunk in chunksLista[:40]:\n",
    "    filname = os.path.basename(chunk.metadata[\"source\"])\n",
    "    chunk_id = f\"{filname}.{chunk.metadata[\"chunk_number\"]}\"\n",
    "    print(f\"Processing - {chunk_id}\")\n",
    "\n",
    "    chunk_embedding = embedding_provider.embed_query(chunk.page_content)\n",
    "\n",
    "    properties ={\n",
    "        \"filename\": filname,\n",
    "        \"chunk_id\": chunk_id,\n",
    "        \"text\": chunk.page_content,\n",
    "        \"embedding\": chunk_embedding\n",
    "    }\n",
    "\n",
    "    \n",
    "    graph.query(\"\"\"\n",
    "        MERGE (d:Document {id: $filename})\n",
    "        MERGE (c:Chunk {id: $chunk_id}) ON CREATE SET c.text = $text\n",
    "        MERGE (d)<-[:PART_OF]-(c)\n",
    "        WITH c\n",
    "        CALL db.create.setNodeVectorProperty(c, \"textEmbedding\", $embedding)\n",
    "    \"\"\", properties)\n",
    "    \n",
    "    graph_docs = doc_transformer.convert_to_graph_documents([chunk])\n",
    "    \n",
    "    for graph_doc in graph_docs:\n",
    "        chunk_node = Node(id=chunk_id, type=\"Chunk\")\n",
    "\n",
    "        for node in graph_doc.nodes:\n",
    "            graph_doc.relationships.append(\n",
    "                Relationship(\n",
    "                    source=chunk_node, \n",
    "                    target=node, \n",
    "                    type=\"HAS_ENTITY\"))\n",
    "\n",
    "    graph.add_graph_documents(graph_docs)"
   ]
  },
  {
   "cell_type": "code",
   "execution_count": null,
   "metadata": {},
   "outputs": [
    {
     "name": "stdout",
     "output_type": "stream",
     "text": [
      "Processing - layout-parser-paper.pdf.1\n",
      "Processing - layout-parser-paper.pdf.2\n",
      "Processing - layout-parser-paper.pdf.3\n",
      "Processing - layout-parser-paper.pdf.4\n",
      "Processing - layout-parser-paper.pdf.5\n",
      "Processing - layout-parser-paper.pdf.6\n",
      "Processing - layout-parser-paper.pdf.7\n",
      "Processing - layout-parser-paper.pdf.8\n",
      "Processing - layout-parser-paper.pdf.9\n",
      "Processing - layout-parser-paper.pdf.10\n",
      "Processing - layout-parser-paper.pdf.11\n",
      "Processing - layout-parser-paper.pdf.12\n",
      "Processing - layout-parser-paper.pdf.13\n",
      "Processing - layout-parser-paper.pdf.14\n",
      "Processing - layout-parser-paper.pdf.15\n",
      "Processing - layout-parser-paper.pdf.16\n",
      "Processing - layout-parser-paper.pdf.17\n",
      "Processing - layout-parser-paper.pdf.18\n",
      "Processing - layout-parser-paper.pdf.19\n",
      "Processing - layout-parser-paper.pdf.20\n",
      "Processing - layout-parser-paper.pdf.21\n",
      "Processing - layout-parser-paper.pdf.22\n",
      "Processing - layout-parser-paper.pdf.23\n",
      "Processing - layout-parser-paper.pdf.24\n",
      "Processing - layout-parser-paper.pdf.25\n",
      "Processing - layout-parser-paper.pdf.26\n",
      "Processing - layout-parser-paper.pdf.27\n",
      "Processing - layout-parser-paper.pdf.28\n",
      "Processing - layout-parser-paper.pdf.29\n",
      "Processing - layout-parser-paper.pdf.30\n",
      "Processing - layout-parser-paper.pdf.31\n",
      "Processing - layout-parser-paper.pdf.32\n",
      "Processing - layout-parser-paper.pdf.33\n",
      "Processing - layout-parser-paper.pdf.34\n",
      "Processing - layout-parser-paper.pdf.35\n",
      "Processing - layout-parser-paper.pdf.36\n",
      "Processing - layout-parser-paper.pdf.37\n"
     ]
    }
   ],
   "source": [
    "from concurrent.futures import ThreadPoolExecutor\n",
    "\n",
    "# Número de hilos\n",
    "num_threads = 20\n",
    "\n",
    "with ThreadPoolExecutor(max_workers=num_threads) as executor:\n",
    "    executor.map(process_chunk, chunksLista)"
   ]
  },
  {
   "cell_type": "code",
   "execution_count": 7,
   "metadata": {},
   "outputs": [
    {
     "data": {
      "text/plain": [
       "[]"
      ]
     },
     "execution_count": 7,
     "metadata": {},
     "output_type": "execute_result"
    }
   ],
   "source": [
    "\n",
    "graph.query(\"\"\"\n",
    "    CREATE VECTOR INDEX `chunkVector`\n",
    "    IF NOT EXISTS\n",
    "    FOR (c: Chunk) ON (c.textEmbedding)\n",
    "    OPTIONS {indexConfig: {\n",
    "    `vector.dimensions`: 768,\n",
    "    `vector.similarity_function`: 'cosine'\n",
    "    }};\"\"\")"
   ]
  },
  {
   "cell_type": "code",
   "execution_count": 8,
   "metadata": {},
   "outputs": [
    {
     "name": "stdout",
     "output_type": "stream",
     "text": [
      "[-0.004285799339413643, 0.011545456945896149, 0.009045027196407318, 0.02757652848958969, -0.05659567937254906, -0.011382430791854858, -0.04297454655170441, 0.0425054132938385, -0.0010499247582629323, 0.015608065761625767, 0.020498590543866158, -0.0008619277505204082, 0.042649537324905396, -0.03123163804411888, -0.06375948339700699, -0.04953375086188316, 0.00431950343772769, 0.018370022997260094, -0.05993765592575073, -0.009700137190520763, -0.033041104674339294, 0.04195351526141167, 0.0022905890364199877, -0.0009413186344318092, 0.015663905069231987, 0.005366922821849585, 0.03255557641386986, -0.004424667451530695, -0.04137236624956131, -0.004323347471654415, 0.04766267538070679, 0.045463282614946365, 0.006898750085383654, -0.015068561770021915, 1.5622736100340262e-06, 0.0002702425990719348, -0.0237102210521698, 0.010287545621395111, 0.021343514323234558, -0.024005185812711716, 0.007927712053060532, -0.027690110728144646, -0.005339654628187418, 0.01451863069087267, -0.035068150609731674, -0.035816699266433716, -0.018153568729758263, 0.05457441881299019, -0.030610118061304092, 0.04816872254014015, -0.001398321706801653, -0.061700306832790375, 0.09965254366397858, -0.03849183768033981, 0.07045618444681168, -0.018655359745025635, -0.02803148329257965, -0.022747691720724106, 0.03566571697592735, 0.014803512021899223, 0.06453437358140945, -0.006599539425224066, 0.0006558652967214584, -0.06695336103439331, -0.03073081374168396, -0.03253883868455887, 0.01709071360528469, -0.03307979553937912, 0.06769338995218277, 0.034243516623973846, 0.10481767356395721, 0.026139982044696808, 0.05206223577260971, 0.1046617180109024, -0.022924914956092834, 0.0026383688673377037, -0.01009955070912838, 0.030219241976737976, 0.0032030309084802866, -0.02937854267656803, 0.034747082740068436, 0.028622781857848167, 0.024770434945821762, 0.0306438896805048, -0.001524142106063664, -0.018314125016331673, -0.031239386647939682, -0.0005496084340848029, -0.015253346413373947, -0.014954782091081142, 0.03317936882376671, -0.07537771016359329, 0.000686847313772887, 0.039318300783634186, 0.06138031184673309, 0.013684896752238274, -0.05002149939537048, -0.11490684002637863, 0.015165544115006924, -0.0763653814792633, -0.006388906855136156, -0.03140163794159889, 0.022282453253865242, 0.056707240641117096, 0.010676341131329536, 0.011622779071331024, 0.03361300379037857, 0.020192213356494904, -0.04623732715845108, 0.017093520611524582, 0.04020107164978981, 0.013245534151792526, -0.08329924941062927, 0.028837377205491066, 0.03841546177864075, 0.0076643330976367, 0.02154434844851494, -0.01842600479722023, 0.0338980071246624, 0.056042324751615524, -0.013805445283651352, 0.0036818673834204674, -0.0008168850908987224, -0.006199652794748545, -0.04829268902540207, 0.003634452586993575, -0.049124617129564285, 0.0035874713212251663, 0.025515854358673096, -0.02445863001048565, 0.04163597151637077, 0.039417564868927, -0.0030790537130087614, 0.018220428377389908, -0.01733214780688286, 0.02723255567252636, 0.003820978570729494, -0.01505269855260849, 0.0050877537578344345, -0.061640262603759766, 0.040397170931100845, -0.09239323437213898, -0.011999094858765602, 0.007386933546513319, 0.032240040600299835, 0.0021535009145736694, 0.00874779187142849, -0.03834674507379532, 0.011738565750420094, 0.01562664657831192, 0.024801380932331085, 0.007722505833953619, -0.03619867190718651, -0.029725201427936554, 0.04777353256940842, 0.035440072417259216, -0.013148916885256767, -0.013508250005543232, 0.0022253624629229307, 0.008160748519003391, 0.007798344362527132, 0.02796037308871746, -0.036546848714351654, -0.03247680887579918, 0.016704879701137543, -0.014034371823072433, 0.044292986392974854, 0.03638906031847, 0.006426011212170124, 0.0239664725959301, -0.05315764620900154, 0.015295526944100857, -0.028209025040268898, 0.07156646251678467, -0.006869674660265446, 0.1007523313164711, 0.03028022311627865, -0.05588071420788765, -0.04251633211970329, 0.013114972040057182, 0.07935577630996704, -0.04171181842684746, 0.032112911343574524, 0.012267671525478363, -0.004954612348228693, 0.00486269686371088, -0.016304656863212585, -0.025745952501893044, -0.038662705570459366, -0.02816208079457283, 0.018983088433742523, 0.02845054119825363, -0.01325194537639618, -0.04288279265165329, -0.009280502796173096, 0.020173901692032814, -0.012604299001395702, 0.007065150421112776, -0.05015198886394501, 0.0666203424334526, -0.020450105890631676, -0.00033480263664387167, 0.11259084194898605, -0.02567715384066105, 0.0022427826188504696, 0.0038525722920894623, 0.03626878932118416, -0.006485172547399998, -0.028066202998161316, -0.004780658986419439, 0.0038735312409698963, 0.013981842435896397, 0.007909221574664116, -0.044714078307151794, -0.014977448619902134, 0.015232281759381294, 0.011697878129780293, 0.027033472433686256, -0.042888689786195755, 0.07997861504554749, 0.01059751957654953, -0.016959112137556076, -0.0018020757706835866, 0.008683733642101288, 0.030145082622766495, -0.093062624335289, -0.01827908866107464, 0.0405585803091526, 0.007780132815241814, -0.031109172850847244, -0.0029245612677186728, -0.024411164224147797, 0.047990672290325165, 0.06420931220054626, 0.0333811491727829, 0.006090756505727768, -0.0036341743543744087, -0.018506847321987152, -0.026096370071172714, -0.07896194607019424, 0.010635445825755596, -0.00860995426774025, 0.0003587198443710804, -0.02527126483619213, 0.0015261752996593714, -0.05514727160334587, -0.013612340204417706, -0.03252734616398811, -0.02570464462041855, -0.06294210255146027, 0.024846328422427177, 0.018689725548028946, -0.05995941534638405, -0.0093872444704175, -0.0027050599455833435, 0.020270483568310738, -0.04884492978453636, 0.02800450101494789, -0.02267274260520935, -0.0574059784412384, 0.09568376839160919, -0.024651600047945976, 0.037270162254571915, 0.014299342408776283, 0.0054980251006782055, 0.03103392757475376, -0.03694552183151245, 0.02128519117832184, -0.019121481105685234, -0.018285958096385002, -0.029416527599096298, 0.05262138321995735, -0.039853546768426895, 0.005717642605304718, 0.006646262481808662, -0.038624804466962814, -0.025938481092453003, 0.03690522164106369, -0.020777007564902306, 0.03871022164821625, 0.06274659186601639, 0.041917409747838974, -0.01946253515779972, -0.004647375550121069, 0.0036315356846898794, 0.030389180406928062, 0.07088124752044678, -0.0501696951687336, -0.049325648695230484, -0.02073916420340538, -0.03516072407364845, 0.010857198387384415, 0.028064219281077385, 0.002671578899025917, 0.021734638139605522, 0.03199757635593414, -0.003704862669110298, 0.018816867843270302, -0.04519951343536377, 0.04317271709442139, 0.044698458164930344, 0.03231603279709816, 0.03548243269324303, -0.02951755002140999, 0.03243756294250488, 0.02833295799791813, 0.006575991399586201, -0.07130425423383713, 0.02193310856819153, -0.012848147191107273, 0.06876538693904877, -0.005214095115661621, -0.029154706746339798, -0.013162956573069096, -0.021977931261062622, 0.008000219240784645, 0.0390387624502182, -0.02624562941491604, -0.002369888359680772, 0.06652980297803879, -0.016459286212921143, 0.02263784036040306, -0.052720196545124054, 0.018624408170580864, 0.015705151483416557, -0.06539004296064377, 0.006339978892356157, 0.020381055772304535, 0.025027908384799957, 0.00010951171861961484, 0.03407192602753639, -0.017828509211540222, -0.007178097032010555, 0.040002644062042236, -0.051592160016298294, 0.019525647163391113, -0.008946873247623444, -0.033907536417245865, 0.0032925638370215893, 0.01148059032857418, -0.02751140482723713, 0.0015032765222713351, 0.0260680690407753, 0.028576673939824104, 0.02287924662232399, 0.059237562119960785, -0.02387348748743534, 0.014959069900214672, -0.07368715107440948, -0.09560634940862656, -0.022238118574023247, 0.06364276260137558, -0.004855962470173836, -0.011302732862532139, -0.00845443643629551, 0.009896578267216682, -0.010137470439076424, -0.029218310490250587, -0.008177641779184341, -0.03868044167757034, -0.02953314781188965, 0.0208791084587574, -0.006298812106251717, 0.05121757835149765, 0.022496460005640984, -0.00764306727796793, 0.04169207811355591, 0.05123237520456314, -0.06787610799074173, -0.03588797152042389, -0.006803335156291723, -0.011956334114074707, 0.0008284448995254934, 0.05004416033625603, -0.01799124665558338, -0.00709472456946969, -0.013804190792143345, -0.04024220257997513, -0.0440560057759285, -0.026124896481633186, 0.056438203901052475, -0.013079186901450157, 0.08375894278287888, -0.01412828266620636, 0.00593979749828577, 0.040066979825496674, 0.02215665951371193, -0.033165980130434036, 0.07426655292510986, 0.018818890675902367, 0.025337176397442818, 0.03944956511259079, 0.010527594946324825, 0.031339023262262344, -0.036252133548259735, 0.03147512674331665, 0.024762436747550964, -0.01356193795800209, 0.045517247170209885, 0.018011655658483505, 0.03448328748345375, 0.04489762708544731, -0.00802164152264595, -0.02018045261502266, 0.017531471326947212, -0.04823308065533638, 0.04804689809679985, 0.03988027945160866, 0.01015430223196745, -0.025779593735933304, -0.018658611923456192, -0.04720992594957352, -0.01944359764456749, 0.049941807985305786, 0.024447299540042877, -0.009098907932639122, -0.01533470954746008, -0.05859310179948807, -0.01303871814161539, 0.015943340957164764, 0.04316240921616554, 0.006555755622684956, 0.03315483033657074, -0.024249304085969925, 0.038697078824043274, -0.022024141624569893, 0.0029795223381370306, -0.05439107120037079, 0.013680917210876942, -0.03357860818505287, 0.020413288846611977, 0.009616847150027752, 0.0125642791390419, -0.046956829726696014, -0.03928451985120773, 0.06574079394340515, -0.04363533481955528, -0.05086256191134453, -0.001982435118407011, -0.08182201534509659, -0.03406711667776108, -0.04372793436050415, 0.04378743842244148, 0.034731995314359665, 0.0032850296702235937, 0.0200794767588377, -0.0343950018286705, 0.04228076711297035, -0.007840264588594437, 0.03871561214327812, 0.029605155810713768, -0.06224020570516586, -0.015109382569789886, -0.05830859765410423, 0.07813487201929092, -0.014027639292180538, -0.02060447260737419, -0.06303247064352036, 0.02317003533244133, -0.010518181137740612, 0.010607955977320671, 0.03142811357975006, -0.03818460553884506, -0.030243996530771255, -0.03754572197794914, -0.036988016217947006, -0.004017520230263472, -0.05864378809928894, -0.020277921110391617, -0.016218028962612152, -0.04666699841618538, 0.0065066637471318245, 0.031843677163124084, 0.0592079758644104, -0.03578973934054375, -0.011543010361492634, -0.05958293378353119, -0.02049478143453598, -0.011379394680261612, -0.050242457538843155, -0.002896651392802596, 0.008670402690768242, 0.03183158487081528, -0.039968281984329224, 0.0007527006673626602, 0.013435148634016514, -0.0013988716527819633, -0.030992655083537102, 0.019823500886559486, 0.0138432327657938, -0.011089838109910488, -0.033684007823467255, -0.01699935644865036, -0.027323439717292786, -0.0696554034948349, 0.0024272422306239605, 0.06991688907146454, 0.01875576563179493, 0.06997288018465042, -0.022487277165055275, 0.0016599510563537478, 0.04234819486737251, -0.006539748050272465, 0.03610184043645859, -0.034397970885038376, 0.02059178426861763, -0.04920567572116852, 0.011423368938267231, -0.0075109126046299934, -0.011445273645222187, 0.026190154254436493, 0.031177876517176628, 0.013792883604764938, -0.025059347972273827, -0.019065912812948227, 0.005055589601397514, -0.05258726328611374, -0.07906205207109451, -0.04908501356840134, 0.025630522519350052, 0.019855769351124763, -0.003315490437671542, 0.015810130164027214, 0.010222932323813438, -0.008762383833527565, 0.036574989557266235, -0.03286179527640343, -0.008807546459138393, 0.03782111406326294, 0.041633009910583496, -0.0409657284617424, 0.004050401039421558, -0.03272341564297676, 0.006041767541319132, -0.061934638768434525, 0.07050053030252457, 0.05840229615569115, -0.05169369652867317, -0.03745409473776817, -0.03533773124217987, 0.020469365641474724, -0.01511384267359972, 0.028053561225533485, -0.034373827278614044, 0.009185618720948696, 0.028763042762875557, 0.010848738253116608, 0.05898185819387436, -0.04726139456033707, -0.013713589869439602, -0.02919899858534336, 0.0796445980668068, -0.049977097660303116, 0.046135153621435165, -0.00031955819576978683, -5.928894489172128e-33, -0.03231626749038696, -0.026993488892912865, -0.02522357553243637, 0.029973888769745827, 0.010266941040754318, 0.009351489134132862, -0.036202628165483475, -0.02352883480489254, -0.054787129163742065, -0.0005503533175215125, -0.04399576410651207, -0.027890130877494812, 0.014773018658161163, 0.01730421744287014, 0.0012165185762569308, -0.011616649106144905, 0.008990918286144733, -0.03160640969872475, -0.014118311926722527, -0.03862273693084717, -0.029392484575510025, -0.005531745962798595, 0.07105094194412231, -0.04602568596601486, 0.037779029458761215, -0.02052413672208786, -0.03367732837796211, 0.005091528408229351, 0.007314932532608509, -0.006068263202905655, 0.012629699893295765, -0.05634702369570732, -0.025006629526615143, -0.03251492977142334, -0.007597638759762049, 0.05172527953982353, -0.0489627830684185, -0.06913889944553375, 0.06186848133802414, 0.06600551307201385, -0.04128441959619522, -0.1022118628025055, -0.051413699984550476, -0.050545450299978256, -0.016546085476875305, -0.0028159937355667353, -0.0005624014884233475, -0.009947007521986961, -0.012268628925085068, -0.03267868980765343, -0.014261831529438496, 0.004816973581910133, 0.0038455408066511154, 0.007474028505384922, 0.022791149094700813, 0.07201597839593887, -0.00525219039991498, -0.016853513196110725, -0.05837048962712288, 0.03648830205202103, -0.002950855530798435, 0.03229605779051781, -0.0018412618665024638, -0.08557603508234024, -0.006719497963786125, -0.0059350477531552315, -0.015591242350637913, 0.021318521350622177, 0.012001058086752892, 0.003331403946503997, 0.007717556785792112, 0.02219257690012455, 0.016907379031181335, 0.007946413941681385, -0.027391526848077774, 0.028209058567881584, 0.008846886456012726, 0.043599747121334076, -0.0025451553519815207, 0.06690915673971176, 0.008225188590586185, -0.00397121999412775, 0.011380215175449848, 0.010842405259609222, -0.06582588702440262, -0.06401506811380386, -0.008177275769412518, -0.012084882706403732, -0.01920539140701294, 0.007262917701154947, 0.033868517726659775, -0.011163662187755108, -0.016243763267993927, -0.03462976962327957, 0.004926322493702173, -0.005937451031059027, -0.07641034573316574, -0.01733078993856907, 0.008358816616237164, 0.05396930128335953, -0.03076350688934326, -0.0030143135227262974, -0.012468910776078701, 0.06716744601726532, 0.003703661961480975, 0.03320073336362839, 0.058292463421821594, 0.00012244029494468123, -0.060293931514024734, 0.006514333188533783, -0.017001215368509293, 0.02719973772764206, 0.02219061180949211, -0.03365236520767212, -0.019990021362900734, 0.04922374710440636, -0.004753517918288708, 0.03433932363986969, -0.044421643018722534, 0.013796186074614525, 0.013887626118957996, -0.03975097835063934, -0.03580485284328461, 0.037246569991111755, -0.0463377870619297, 0.024416130036115646, -0.020828843116760254, 0.023239562287926674, 0.08055924624204636, 0.046402186155319214, 0.01143510453402996, -0.03471986949443817, 2.221041341954333e-07, 0.010374299250543118, -0.0012566947843879461, -0.005725855939090252, 0.019924061372876167, 0.041432563215494156, 0.015160270035266876, -0.017307549715042114, 0.04767425358295441, -0.02650029957294464, 0.01980774477124214, 0.013155858963727951, -0.053840093314647675, 0.04795343428850174, 0.00027163821505382657, -0.010914472863078117, -0.05646680295467377, 0.011121285147964954, -0.030825557187199593, 0.0074984910897910595, -0.037395548075437546, -0.00025772186927497387, 0.0241079218685627, 0.033765409141778946, -0.007116907276213169, -0.04315689951181412, 0.017048638314008713, 0.00964592956006527, -0.028972897678613663, -0.022480333223938942, -0.0732494369149208, 0.09151099622249603, 0.0061353412456810474, -0.02367430552840233, -0.013563795946538448, -0.0150715671479702, -0.035439491271972656, 0.06102333590388298, 0.08221397548913956, 0.045471638441085815, 0.09879691898822784, 0.05681082606315613, -0.06817188113927841, -0.028141727671027184, -0.04614829272031784, 0.04373769834637642, 0.09695136547088623, -0.04092323035001755, 0.02718999609351158, 0.011581002734601498, -0.00419434392824769, 0.061600461602211, 0.006022936198860407, 0.01829993538558483, 0.04604783281683922, 0.007750405464321375, -0.004362075589597225, 0.00033436185913160443, 0.0238623209297657, 0.03849533572793007, 0.03212151303887367, 0.02153344824910164, -0.011077490635216236, -0.0014275785069912672, 0.05529321730136871, 0.034514155238866806, -0.02751348353922367, 0.03240435570478439, 1.3733202925442117e-34, 0.0011121847201138735, -0.07775256037712097, -0.011739816516637802, -0.05943366140127182, 0.008957762271165848, -0.008331874385476112, 0.05396004766225815, -0.013575625605881214, -0.006434174254536629, -0.07230516523122787, 0.01186125073581934]\n"
     ]
    }
   ],
   "source": [
    "from sentence_transformers import SentenceTransformer\n",
    "import numpy as np\n",
    "\n",
    "# Cargar modelo de embeddings\n",
    "model = SentenceTransformer(\"sentence-transformers/all-mpnet-base-v2\")\n",
    "\n",
    "# Obtener el embedding de la consulta\n",
    "query_text = \"¿De que trta el documento?\"\n",
    "query_embedding = model.encode(query_text).tolist()  # Convertir a lista para Neo4j\n",
    "print(query_embedding)"
   ]
  },
  {
   "cell_type": "code",
   "execution_count": 2,
   "metadata": {},
   "outputs": [
    {
     "name": "stdout",
     "output_type": "stream",
     "text": [
      "[]\n"
     ]
    }
   ],
   "source": [
    "from query import QueryProcessor\n",
    "\n",
    "processor = QueryProcessor()\n",
    "    \n",
    "query_text = \"¿De qué trata el documento?\"\n",
    "context = processor.get_context(query_text)\n",
    "\n",
    "print(context)\n",
    "\n",
    "# Cerrar la conexión a la base de datos\n",
    "processor.close()\n"
   ]
  },
  {
   "cell_type": "code",
   "execution_count": 10,
   "metadata": {},
   "outputs": [
    {
     "name": "stdout",
     "output_type": "stream",
     "text": [
      "segmentation. In: Proceedings of the IEEE conference on computer vision and\n",
      "pattern recognition. pp. 3431–3440 (2015)\n",
      "[21] Neudecker, C., Schlarb, S., Dogan, Z.M., Missier, P., Suﬁ, S., Williams, A., Wolsten-\n",
      "croft, K.: An experimental workﬂow development platform for historical document\n",
      "digitisation and analysis. In: Proceedings of the 2011 workshop on historical\n",
      "document imaging and processing. pp. 161–168 (2011)\n",
      "[22] Oliveira, S.A., Seguin, B., Kaplan, F.: dhsegment: A generic deep-learning approach\n",
      "for document segmentation. In: 2018 16th International Conference on Frontiers\n",
      "in Handwriting Recognition (ICFHR). pp. 7–12. IEEE (2018) 0.636751651763916\n"
     ]
    }
   ],
   "source": [
    "from neo4jDb import  get_driver\n",
    "driver = get_driver()\n",
    "# Consulta en Neo4j con los embeddings generados\n",
    "cypher_query = \"\"\"\n",
    "CALL db.index.vector.queryNodes('chunkVector', 1, $embedding)\n",
    "YIELD node, score\n",
    "RETURN node.text, score\n",
    "\"\"\"\n",
    "\n",
    "# Ejecutar la consulta\n",
    "with driver.session(database=\"neo4j\") as session:\n",
    "    result = session.run(cypher_query, embedding=query_embedding)\n",
    "    for record in result:\n",
    "        print(record[\"node.text\"], record[\"score\"])\n",
    "\n",
    "driver.close()"
   ]
  },
  {
   "cell_type": "code",
   "execution_count": 2,
   "metadata": {},
   "outputs": [
    {
     "name": "stdout",
     "output_type": "stream",
     "text": [
      "[{'label': 'Chunk'}, {'label': 'Session'}]\n"
     ]
    }
   ],
   "source": [
    "import os\n",
    "from openai import AzureOpenAI\n",
    "from dotenv import load_dotenv\n",
    "from langchain_neo4j import Neo4jGraph\n",
    "\n",
    "load_dotenv(\".env\")\n",
    "\n",
    "graph = Neo4jGraph(\n",
    "    url=os.getenv('NEO4J_URI'),\n",
    "    username=os.getenv('NEO4J_USERNAME'),\n",
    "    password=os.getenv('NEO4J_PASSWORD')\n",
    ")\n",
    "print(graph.query('CALL db.labels()'))"
   ]
  },
  {
   "cell_type": "code",
   "execution_count": 5,
   "metadata": {},
   "outputs": [
    {
     "name": "stdout",
     "output_type": "stream",
     "text": [
      "Yes, many other Azure AI services support **Customer Managed Keys (CMK)** to help organizations maintain control over their data by managing encryption keys. This feature is part of Microsoft’s effort to ensure security and compliance for data-sensitive workloads. Below are examples of Azure AI services that support customer-managed keys:\n",
      "\n",
      "### 1. **Azure Cognitive Search**\n",
      "   - Azure Cognitive Search allows you to use customer-managed keys for encrypting your data at rest. This lets you maintain full control over the encryption keys stored in Azure Key Vault or Azure Managed HSM.\n",
      "\n",
      "### 2. **Azure Machine Learning**\n",
      "   - Azure Machine Learning supports customer-managed keys for encrypting both the **workspace's default storage account** and **data in Azure Machine Learning resources**, including datasets, models, and experiments.\n",
      "\n",
      "### 3. **Azure Cognitive Services**\n",
      "   - Many Cognitive Services (e.g., Text Analytics, Translator, and Form Recognizer) allow customers to use CMK to encrypt customer data at rest by integrating with Azure Key Vault.\n",
      "\n",
      "### 4. **Azure Synapse Analytics with AI Integration**\n",
      "   - For AI workloads that run through Azure Synapse Analytics, CMK can be used to encrypt the associated data stored in services like Azure Data Lake or Synapse storage.\n",
      "\n",
      "### Key Features of Customer-Managed Keys:\n",
      "   - Full control over the key lifecycle, including rotation, revocation, and expiration.\n",
      "   - Integration with Azure Key Vault or Azure Managed HSM for key storage and management.\n",
      "   - Enhanced compliance for industry-specific requirements, including GDPR, HIPAA, or financial regulations.\n",
      "   \n",
      "While support for CMK may vary slightly based on specific services or regions, Azure’s goal is to consistently provide this capability across its portfolio to address enterprise-grade security and compliance needs.\n",
      "\n",
      "If you're using or considering a specific Azure AI service, consult its documentation or feature overview to confirm CMK support and implementation details.\n"
     ]
    }
   ],
   "source": [
    "import os\n",
    "from openai import AzureOpenAI\n",
    "from dotenv import load_dotenv\n",
    "\n",
    "load_dotenv(\".env\")\n",
    "\n",
    "client = AzureOpenAI(\n",
    "  azure_endpoint = os.getenv(\"AZURE_OPENAI_ENDPOINT\"), \n",
    "  api_key=os.getenv(\"AZURE_OPENAI_API_KEY\"),  \n",
    "  api_version=os.getenv(\"AZURE_OPENAI_API_VERSION\"), \n",
    ")\n",
    "\n",
    "response = client.chat.completions.create(\n",
    "    model=os.getenv(\"AZURE_OPENAI_MODEL\"),\n",
    "    messages=[\n",
    "        {\"role\": \"system\", \"content\": \"You are a helpful assistant.\"},\n",
    "        {\"role\": \"user\", \"content\": \"Does Azure OpenAI support customer managed keys?\"},\n",
    "        {\"role\": \"assistant\", \"content\": \"Yes, customer managed keys are supported by Azure OpenAI.\"},\n",
    "        {\"role\": \"user\", \"content\": \"Do other Azure AI services support this too?\"}\n",
    "    ]\n",
    ")\n",
    "\n",
    "print(response.choices[0].message.content)"
   ]
  },
  {
   "cell_type": "code",
   "execution_count": null,
   "metadata": {},
   "outputs": [
    {
     "name": "stdout",
     "output_type": "stream",
     "text": [
      "Type: ai, Content: Entiendo que puede ser frustrante no obtener la información que necesitas de inmediato. Si tienes acceso a los responsables del proyecto o a los documentos oficiales, seguramente encontrarás lo que buscas. Si necesitas orientación sobre cómo buscar esa información o tienes alguna otra consulta, no dudes en pedírmelo. ¡Estoy aquí para ayudarte!\n",
      "Type: human, Content: bueno :(\n",
      "Type: ai, Content: Lo siento, pero no tengo acceso a información específica y detallada sobre los requisitos técnicos del Tren Maya, en particular para el tramo 5, ni sobre las cláusulas específicas que establece la Marina en relación con este proyecto. Te recomendaría consultar los documentos oficiales del proyecto, como licitaciones, especificaciones técnicas o acuerdos con la Secretaría de Marina, para obtener información precisa y actualizada. También puedes contactar directamente a las autoridades responsables del Tren Maya o a las entidades involucradas en el proyecto.\n",
      "Type: human, Content: cuales son los requisitos del tren maya del tramo 5 para el sitema de telecomunicaciones y catenarias, ademas cuales on la clausulas a cumplir segun la marina?\n"
     ]
    }
   ],
   "source": [
    "from neo4jDb import get_driver\n",
    "\n",
    "def get_chat_history(driver=get_driver(),session_id=None,database=None) :\n",
    "    \"\"\"\n",
    "    Extrae el historial de conversación desde Neo4j.\n",
    "\n",
    "    :param driver: Instancia del driver de Neo4j.\n",
    "    :param session_id: ID de la sesión de chat.\n",
    "    :param database: Base de datos a utilizar (por defecto \"neo4j\").\n",
    "    :return: Lista de tuplas con (tipo de mensaje, contenido).\n",
    "    \"\"\"\n",
    "    query = \"\"\"\n",
    "    MATCH (s:Session)-[:LAST_MESSAGE]->(last:Message)\n",
    "    WHERE s.id = $session_id\n",
    "    MATCH p = (last)<-[:NEXT*]-(msg:Message)\n",
    "    UNWIND nodes(p) as msgs\n",
    "    RETURN DISTINCT msgs.type, msgs.content\n",
    "    \"\"\"\n",
    "\n",
    "    # Ejecutar la consulta\n",
    "    with driver.session(database=database) as session:\n",
    "        result = session.run(query, session_id=session_id)\n",
    "        \n",
    "        # Mostrar los resultados\n",
    "        for record in result:\n",
    "            print(f\"Type: {record['msgs.type']}, Content: {record['msgs.content']}\")\n",
    "    driver.close()\n",
    "\n",
    "    return None\n",
    "\n",
    "# Ejemplo de uso:\n",
    "get_chat_history(session_id=\"bb198b2b\", database=\"u1234568\")"
   ]
  },
  {
   "cell_type": "code",
   "execution_count": 1,
   "metadata": {},
   "outputs": [
    {
     "name": "stdout",
     "output_type": "stream",
     "text": [
      "Type: ai, Content: Me comentaste anteriormente que eres Alejandro y que eres becario en Sener. ¿Hay algo más que te gustaría compartir o en lo que pueda ayudarte?\n",
      "Type: human, Content: quien soy?\n",
      "Type: ai, Content: ¡Hasta luego, Alejandro! Mucho éxito en tu experiencia como becario en Sener. Si necesitas ayuda en el futuro, aquí estaré para apoyarte. ¡Que tengas un excelente día!\n",
      "Type: human, Content: bueno adios\n",
      "Type: ai, Content: ¡Claro que sí! Sener es una empresa multinacional de ingeniería y tecnología con una sólida trayectoria en diversos sectores, como energía, infraestructuras, aeroespacial y naval. En México, Sener ha participado en proyectos emblemáticos, como el Tren Maya, plantas de energía y otras iniciativas de gran impacto. \n",
      "\n",
      "Como becario, seguramente tendrás la oportunidad de aprender y contribuir en proyectos importantes. Si necesitas información específica sobre algún tema o proyecto dentro de Sener, no dudes en pedírmelo, y con gusto te ayudaré. ¡Bienvenido a la experiencia en Sener!\n",
      "Type: human, Content: sooy becario para la empresa Sener la conoces?\n",
      "Type: ai, Content: Hola Alejandro, con gusto te ayudo. Para acceder al Sistema de Transmisión de Conocimiento (STC) y obtener información sobre el proyecto del Tren Maya, es importante que tengas los permisos necesarios dentro de la plataforma INTEGRA de Sener México. \n",
      "\n",
      "Si ya tienes acceso al STC, puedes buscar directamente información relacionada con el Tren Maya utilizando palabras clave en el buscador del sistema. Si no tienes acceso o necesitas orientación específica, te recomiendo contactar al administrador de la plataforma o al área de soporte técnico para que te proporcionen los permisos adecuados o te guíen en el proceso.\n",
      "\n",
      "¿Hay algo más en lo que pueda asistirte?\n",
      "Type: human, Content: hola soy alejandro quiero saber acesar del STC y del proyectto Tren Maya\n"
     ]
    }
   ],
   "source": [
    "import neo4jDb\n",
    "from chat import Chat\n",
    "\n",
    "# Se crea una sesion para el chat o se pasa uno ya existente\n",
    "DB_ID = \"u1234568\" # incializar con un minuscul\n",
    "\n",
    "# Se inicializa el chat\n",
    "chat_test = Chat(DB_ID)\n",
    "chat_test.get_chat_history(session_id=\"ejemplo123\") # Se obtiene el historial de la conversacion"
   ]
  }
 ],
 "metadata": {
  "kernelspec": {
   "display_name": ".venv",
   "language": "python",
   "name": "python3"
  },
  "language_info": {
   "codemirror_mode": {
    "name": "ipython",
    "version": 3
   },
   "file_extension": ".py",
   "mimetype": "text/x-python",
   "name": "python",
   "nbconvert_exporter": "python",
   "pygments_lexer": "ipython3",
   "version": "3.12.3"
  }
 },
 "nbformat": 4,
 "nbformat_minor": 2
}
