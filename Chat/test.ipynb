{
 "cells": [
  {
   "cell_type": "code",
   "execution_count": 5,
   "metadata": {},
   "outputs": [
    {
     "name": "stdout",
     "output_type": "stream",
     "text": [
      "Yes, many other Azure AI services support **Customer Managed Keys (CMK)** to help organizations maintain control over their data by managing encryption keys. This feature is part of Microsoft’s effort to ensure security and compliance for data-sensitive workloads. Below are examples of Azure AI services that support customer-managed keys:\n",
      "\n",
      "### 1. **Azure Cognitive Search**\n",
      "   - Azure Cognitive Search allows you to use customer-managed keys for encrypting your data at rest. This lets you maintain full control over the encryption keys stored in Azure Key Vault or Azure Managed HSM.\n",
      "\n",
      "### 2. **Azure Machine Learning**\n",
      "   - Azure Machine Learning supports customer-managed keys for encrypting both the **workspace's default storage account** and **data in Azure Machine Learning resources**, including datasets, models, and experiments.\n",
      "\n",
      "### 3. **Azure Cognitive Services**\n",
      "   - Many Cognitive Services (e.g., Text Analytics, Translator, and Form Recognizer) allow customers to use CMK to encrypt customer data at rest by integrating with Azure Key Vault.\n",
      "\n",
      "### 4. **Azure Synapse Analytics with AI Integration**\n",
      "   - For AI workloads that run through Azure Synapse Analytics, CMK can be used to encrypt the associated data stored in services like Azure Data Lake or Synapse storage.\n",
      "\n",
      "### Key Features of Customer-Managed Keys:\n",
      "   - Full control over the key lifecycle, including rotation, revocation, and expiration.\n",
      "   - Integration with Azure Key Vault or Azure Managed HSM for key storage and management.\n",
      "   - Enhanced compliance for industry-specific requirements, including GDPR, HIPAA, or financial regulations.\n",
      "   \n",
      "While support for CMK may vary slightly based on specific services or regions, Azure’s goal is to consistently provide this capability across its portfolio to address enterprise-grade security and compliance needs.\n",
      "\n",
      "If you're using or considering a specific Azure AI service, consult its documentation or feature overview to confirm CMK support and implementation details.\n"
     ]
    }
   ],
   "source": [
    "import os\n",
    "from openai import AzureOpenAI\n",
    "from dotenv import load_dotenv\n",
    "\n",
    "load_dotenv(\".env\")\n",
    "\n",
    "client = AzureOpenAI(\n",
    "  azure_endpoint = os.getenv(\"AZURE_OPENAI_ENDPOINT\"), \n",
    "  api_key=os.getenv(\"AZURE_OPENAI_API_KEY\"),  \n",
    "  api_version=os.getenv(\"AZURE_OPENAI_API_VERSION\"), \n",
    ")\n",
    "\n",
    "response = client.chat.completions.create(\n",
    "    model=os.getenv(\"AZURE_OPENAI_MODEL\"),\n",
    "    messages=[\n",
    "        {\"role\": \"system\", \"content\": \"You are a helpful assistant.\"},\n",
    "        {\"role\": \"user\", \"content\": \"Does Azure OpenAI support customer managed keys?\"},\n",
    "        {\"role\": \"assistant\", \"content\": \"Yes, customer managed keys are supported by Azure OpenAI.\"},\n",
    "        {\"role\": \"user\", \"content\": \"Do other Azure AI services support this too?\"}\n",
    "    ]\n",
    ")\n",
    "\n",
    "print(response.choices[0].message.content)"
   ]
  },
  {
   "cell_type": "code",
   "execution_count": null,
   "metadata": {},
   "outputs": [
    {
     "name": "stdout",
     "output_type": "stream",
     "text": [
      "Type: ai, Content: Entiendo que puede ser frustrante no obtener la información que necesitas de inmediato. Si tienes acceso a los responsables del proyecto o a los documentos oficiales, seguramente encontrarás lo que buscas. Si necesitas orientación sobre cómo buscar esa información o tienes alguna otra consulta, no dudes en pedírmelo. ¡Estoy aquí para ayudarte!\n",
      "Type: human, Content: bueno :(\n",
      "Type: ai, Content: Lo siento, pero no tengo acceso a información específica y detallada sobre los requisitos técnicos del Tren Maya, en particular para el tramo 5, ni sobre las cláusulas específicas que establece la Marina en relación con este proyecto. Te recomendaría consultar los documentos oficiales del proyecto, como licitaciones, especificaciones técnicas o acuerdos con la Secretaría de Marina, para obtener información precisa y actualizada. También puedes contactar directamente a las autoridades responsables del Tren Maya o a las entidades involucradas en el proyecto.\n",
      "Type: human, Content: cuales son los requisitos del tren maya del tramo 5 para el sitema de telecomunicaciones y catenarias, ademas cuales on la clausulas a cumplir segun la marina?\n"
     ]
    }
   ],
   "source": [
    "from neo4jDb import get_driver\n",
    "\n",
    "def get_chat_history(driver=get_driver(),session_id=None,database=None) :\n",
    "    \"\"\"\n",
    "    Extrae el historial de conversación desde Neo4j.\n",
    "\n",
    "    :param driver: Instancia del driver de Neo4j.\n",
    "    :param session_id: ID de la sesión de chat.\n",
    "    :param database: Base de datos a utilizar (por defecto \"neo4j\").\n",
    "    :return: Lista de tuplas con (tipo de mensaje, contenido).\n",
    "    \"\"\"\n",
    "    query = \"\"\"\n",
    "    MATCH (s:Session)-[:LAST_MESSAGE]->(last:Message)\n",
    "    WHERE s.id = $session_id\n",
    "    MATCH p = (last)<-[:NEXT*]-(msg:Message)\n",
    "    UNWIND nodes(p) as msgs\n",
    "    RETURN DISTINCT msgs.type, msgs.content\n",
    "    \"\"\"\n",
    "\n",
    "    # Ejecutar la consulta\n",
    "    with driver.session(database=database) as session:\n",
    "        result = session.run(query, session_id=session_id)\n",
    "        \n",
    "        # Mostrar los resultados\n",
    "        for record in result:\n",
    "            print(f\"Type: {record['msgs.type']}, Content: {record['msgs.content']}\")\n",
    "    driver.close()\n",
    "\n",
    "    return None\n",
    "\n",
    "# Ejemplo de uso:\n",
    "get_chat_history(session_id=\"bb198b2b\", database=\"u1234568\")"
   ]
  },
  {
   "cell_type": "code",
   "execution_count": 1,
   "metadata": {},
   "outputs": [
    {
     "name": "stdout",
     "output_type": "stream",
     "text": [
      "Type: ai, Content: Me comentaste anteriormente que eres Alejandro y que eres becario en Sener. ¿Hay algo más que te gustaría compartir o en lo que pueda ayudarte?\n",
      "Type: human, Content: quien soy?\n",
      "Type: ai, Content: ¡Hasta luego, Alejandro! Mucho éxito en tu experiencia como becario en Sener. Si necesitas ayuda en el futuro, aquí estaré para apoyarte. ¡Que tengas un excelente día!\n",
      "Type: human, Content: bueno adios\n",
      "Type: ai, Content: ¡Claro que sí! Sener es una empresa multinacional de ingeniería y tecnología con una sólida trayectoria en diversos sectores, como energía, infraestructuras, aeroespacial y naval. En México, Sener ha participado en proyectos emblemáticos, como el Tren Maya, plantas de energía y otras iniciativas de gran impacto. \n",
      "\n",
      "Como becario, seguramente tendrás la oportunidad de aprender y contribuir en proyectos importantes. Si necesitas información específica sobre algún tema o proyecto dentro de Sener, no dudes en pedírmelo, y con gusto te ayudaré. ¡Bienvenido a la experiencia en Sener!\n",
      "Type: human, Content: sooy becario para la empresa Sener la conoces?\n",
      "Type: ai, Content: Hola Alejandro, con gusto te ayudo. Para acceder al Sistema de Transmisión de Conocimiento (STC) y obtener información sobre el proyecto del Tren Maya, es importante que tengas los permisos necesarios dentro de la plataforma INTEGRA de Sener México. \n",
      "\n",
      "Si ya tienes acceso al STC, puedes buscar directamente información relacionada con el Tren Maya utilizando palabras clave en el buscador del sistema. Si no tienes acceso o necesitas orientación específica, te recomiendo contactar al administrador de la plataforma o al área de soporte técnico para que te proporcionen los permisos adecuados o te guíen en el proceso.\n",
      "\n",
      "¿Hay algo más en lo que pueda asistirte?\n",
      "Type: human, Content: hola soy alejandro quiero saber acesar del STC y del proyectto Tren Maya\n"
     ]
    }
   ],
   "source": [
    "import neo4jDb\n",
    "from chat import Chat\n",
    "\n",
    "# Se crea una sesion para el chat o se pasa uno ya existente\n",
    "DB_ID = \"u1234568\" # incializar con un minuscul\n",
    "\n",
    "# Se inicializa el chat\n",
    "chat_test = Chat(DB_ID)\n",
    "chat_test.get_chat_history(session_id=\"ejemplo123\") # Se obtiene el historial de la conversacion"
   ]
  }
 ],
 "metadata": {
  "kernelspec": {
   "display_name": ".venv",
   "language": "python",
   "name": "python3"
  },
  "language_info": {
   "codemirror_mode": {
    "name": "ipython",
    "version": 3
   },
   "file_extension": ".py",
   "mimetype": "text/x-python",
   "name": "python",
   "nbconvert_exporter": "python",
   "pygments_lexer": "ipython3",
   "version": "3.12.3"
  }
 },
 "nbformat": 4,
 "nbformat_minor": 2
}
