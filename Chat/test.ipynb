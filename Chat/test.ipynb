{
 "cells": [
  {
   "cell_type": "code",
   "execution_count": 5,
   "metadata": {},
   "outputs": [
    {
     "name": "stdout",
     "output_type": "stream",
     "text": [
      "Yes, many other Azure AI services support **Customer Managed Keys (CMK)** to help organizations maintain control over their data by managing encryption keys. This feature is part of Microsoft’s effort to ensure security and compliance for data-sensitive workloads. Below are examples of Azure AI services that support customer-managed keys:\n",
      "\n",
      "### 1. **Azure Cognitive Search**\n",
      "   - Azure Cognitive Search allows you to use customer-managed keys for encrypting your data at rest. This lets you maintain full control over the encryption keys stored in Azure Key Vault or Azure Managed HSM.\n",
      "\n",
      "### 2. **Azure Machine Learning**\n",
      "   - Azure Machine Learning supports customer-managed keys for encrypting both the **workspace's default storage account** and **data in Azure Machine Learning resources**, including datasets, models, and experiments.\n",
      "\n",
      "### 3. **Azure Cognitive Services**\n",
      "   - Many Cognitive Services (e.g., Text Analytics, Translator, and Form Recognizer) allow customers to use CMK to encrypt customer data at rest by integrating with Azure Key Vault.\n",
      "\n",
      "### 4. **Azure Synapse Analytics with AI Integration**\n",
      "   - For AI workloads that run through Azure Synapse Analytics, CMK can be used to encrypt the associated data stored in services like Azure Data Lake or Synapse storage.\n",
      "\n",
      "### Key Features of Customer-Managed Keys:\n",
      "   - Full control over the key lifecycle, including rotation, revocation, and expiration.\n",
      "   - Integration with Azure Key Vault or Azure Managed HSM for key storage and management.\n",
      "   - Enhanced compliance for industry-specific requirements, including GDPR, HIPAA, or financial regulations.\n",
      "   \n",
      "While support for CMK may vary slightly based on specific services or regions, Azure’s goal is to consistently provide this capability across its portfolio to address enterprise-grade security and compliance needs.\n",
      "\n",
      "If you're using or considering a specific Azure AI service, consult its documentation or feature overview to confirm CMK support and implementation details.\n"
     ]
    }
   ],
   "source": [
    "import os\n",
    "from openai import AzureOpenAI\n",
    "from dotenv import load_dotenv\n",
    "\n",
    "load_dotenv(\".env\")\n",
    "\n",
    "client = AzureOpenAI(\n",
    "  azure_endpoint = os.getenv(\"AZURE_OPENAI_ENDPOINT\"), \n",
    "  api_key=os.getenv(\"AZURE_OPENAI_API_KEY\"),  \n",
    "  api_version=os.getenv(\"AZURE_OPENAI_API_VERSION\"), \n",
    ")\n",
    "\n",
    "response = client.chat.completions.create(\n",
    "    model=os.getenv(\"AZURE_OPENAI_MODEL\"),\n",
    "    messages=[\n",
    "        {\"role\": \"system\", \"content\": \"You are a helpful assistant.\"},\n",
    "        {\"role\": \"user\", \"content\": \"Does Azure OpenAI support customer managed keys?\"},\n",
    "        {\"role\": \"assistant\", \"content\": \"Yes, customer managed keys are supported by Azure OpenAI.\"},\n",
    "        {\"role\": \"user\", \"content\": \"Do other Azure AI services support this too?\"}\n",
    "    ]\n",
    ")\n",
    "\n",
    "print(response.choices[0].message.content)"
   ]
  },
  {
   "cell_type": "code",
   "execution_count": 2,
   "metadata": {},
   "outputs": [],
   "source": [
    "!pip list"
   ]
  },
  {
   "cell_type": "code",
   "execution_count": 3,
   "metadata": {},
   "outputs": [
    {
     "ename": "ModuleNotFoundError",
     "evalue": "No module named 'paddleocr'",
     "output_type": "error",
     "traceback": [
      "\u001b[1;31m---------------------------------------------------------------------------\u001b[0m",
      "\u001b[1;31mModuleNotFoundError\u001b[0m                       Traceback (most recent call last)",
      "Cell \u001b[1;32mIn[3], line 1\u001b[0m\n\u001b[1;32m----> 1\u001b[0m \u001b[38;5;28;01mfrom\u001b[39;00m\u001b[38;5;250m \u001b[39m\u001b[38;5;21;01mpaddleocr\u001b[39;00m\u001b[38;5;250m \u001b[39m\u001b[38;5;28;01mimport\u001b[39;00m PaddleOCR\n\u001b[0;32m      2\u001b[0m \u001b[38;5;28;01mimport\u001b[39;00m\u001b[38;5;250m \u001b[39m\u001b[38;5;21;01mnumpy\u001b[39;00m\u001b[38;5;250m \u001b[39m\u001b[38;5;28;01mas\u001b[39;00m\u001b[38;5;250m \u001b[39m\u001b[38;5;21;01mnp\u001b[39;00m\n\u001b[0;32m      3\u001b[0m \u001b[38;5;28;01mfrom\u001b[39;00m\u001b[38;5;250m \u001b[39m\u001b[38;5;21;01mlangchain_community\u001b[39;00m\u001b[38;5;21;01m.\u001b[39;00m\u001b[38;5;21;01mdocument_loaders\u001b[39;00m\u001b[38;5;250m \u001b[39m\u001b[38;5;28;01mimport\u001b[39;00m PyPDFLoader\n",
      "\u001b[1;31mModuleNotFoundError\u001b[0m: No module named 'paddleocr'"
     ]
    }
   ],
   "source": [
    "from paddleocr import PaddleOCR\n",
    "import numpy as np\n",
    "from langchain_community.document_loaders import PyPDFLoader\n",
    "from langchain_text_splitters import RecursiveCharacterTextSplitter\n",
    "from langchain_core.documents import Document\n",
    "import fitz\n",
    "import os"
   ]
  }
 ],
 "metadata": {
  "kernelspec": {
   "display_name": ".env",
   "language": "python",
   "name": "python3"
  },
  "language_info": {
   "codemirror_mode": {
    "name": "ipython",
    "version": 3
   },
   "file_extension": ".py",
   "mimetype": "text/x-python",
   "name": "python",
   "nbconvert_exporter": "python",
   "pygments_lexer": "ipython3",
   "version": "3.13.2"
  }
 },
 "nbformat": 4,
 "nbformat_minor": 2
}
